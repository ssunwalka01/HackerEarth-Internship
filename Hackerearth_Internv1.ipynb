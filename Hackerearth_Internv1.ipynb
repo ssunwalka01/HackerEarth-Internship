{
  "nbformat": 4,
  "nbformat_minor": 0,
  "metadata": {
    "colab": {
      "name": "Hackerearth_Internv1.ipynb",
      "provenance": [],
      "collapsed_sections": [],
      "toc_visible": true,
      "machine_shape": "hm",
      "include_colab_link": true
    },
    "kernelspec": {
      "name": "python3",
      "display_name": "Python 3"
    }
  },
  "cells": [
    {
      "cell_type": "markdown",
      "metadata": {
        "id": "view-in-github",
        "colab_type": "text"
      },
      "source": [
        "<a href=\"https://colab.research.google.com/github/ssunwalka01/v1/blob/master/Hackerearth_Internv1.ipynb\" target=\"_parent\"><img src=\"https://colab.research.google.com/assets/colab-badge.svg\" alt=\"Open In Colab\"/></a>"
      ]
    },
    {
      "cell_type": "markdown",
      "metadata": {
        "id": "Nd7ZpF8aXUyD",
        "colab_type": "text"
      },
      "source": [
        "# Predict Happiness Source"
      ]
    },
    {
      "cell_type": "code",
      "metadata": {
        "id": "rNdBxBeLV1jz",
        "colab_type": "code",
        "colab": {}
      },
      "source": [
        "# importing packages\n",
        "import pandas as pd \n",
        "import numpy as np                     # For mathematical calculations \n",
        "import seaborn as sns                  # For data visualization \n",
        "import matplotlib.pyplot as plt        # For plotting graphs \n",
        "%matplotlib inline \n",
        "import warnings                        # To ignore any warnings warnings.filterwarnings(\"ignore\")\n",
        "\n",
        "import seaborn as sns\n",
        "from sklearn.preprocessing import MinMaxScaler\n",
        "#from sklearn.cross_validation import train_test_split\n",
        "from sklearn.model_selection import train_test_split\n",
        "\n",
        "from sklearn.neighbors import KNeighborsClassifier\n",
        "from sklearn.metrics import f1_score\n",
        "from sklearn.feature_extraction.text import TfidfVectorizer, CountVectorizer\n",
        "from nltk.stem.porter import PorterStemmer\n",
        "\n",
        "import pandas as pd\n",
        "import numpy as np\n",
        "import matplotlib.pyplot as plt\n",
        "from sklearn.model_selection import cross_val_score\n",
        "import nltk\n",
        "import re\n",
        "import codecs\n",
        "import seaborn as sns\n",
        "from sklearn.preprocessing import LabelEncoder, OneHotEncoder\n",
        "#from sklearn.cross_validation import train_test_split\n",
        "from sklearn.neighbors import KNeighborsClassifier\n",
        "from sklearn.metrics import f1_score"
      ],
      "execution_count": 0,
      "outputs": []
    },
    {
      "cell_type": "markdown",
      "metadata": {
        "id": "eoFpRvlmX2nD",
        "colab_type": "text"
      },
      "source": [
        "Reading the Data"
      ]
    },
    {
      "cell_type": "code",
      "metadata": {
        "id": "EmqW6A9yXwJs",
        "colab_type": "code",
        "colab": {}
      },
      "source": [
        "train=pd.read_csv('/content/hm_train.csv')\n",
        "test=pd.read_csv('/content/hm_test.csv')\n",
        "submission=pd.read_csv('/content/sample_submission.csv')"
      ],
      "execution_count": 0,
      "outputs": []
    },
    {
      "cell_type": "code",
      "metadata": {
        "id": "o7hOjut3YECt",
        "colab_type": "code",
        "outputId": "a72484b3-b0bd-415e-9c87-f7e0da0b914d",
        "colab": {
          "base_uri": "https://localhost:8080/",
          "height": 463
        }
      },
      "source": [
        "print(train.columns,test.columns,submission.columns)\n",
        "print(train.head(),test.head(),submission.head())\n",
        "print(train.shape,test.shape,submission.shape)"
      ],
      "execution_count": 4,
      "outputs": [
        {
          "output_type": "stream",
          "text": [
            "Index(['hmid', 'reflection_period', 'cleaned_hm', 'num_sentence',\n",
            "       'predicted_category'],\n",
            "      dtype='object') Index(['hmid', 'reflection_period', 'cleaned_hm', 'num_sentence'], dtype='object') Index(['hmid', 'predicted_category'], dtype='object')\n",
            "    hmid reflection_period  ... num_sentence  predicted_category\n",
            "0  27673               24h  ...            1           affection\n",
            "1  27674               24h  ...            1           affection\n",
            "2  27675               24h  ...            1            exercise\n",
            "3  27676               24h  ...            2             bonding\n",
            "4  27677               24h  ...            1           affection\n",
            "\n",
            "[5 rows x 5 columns]     hmid  ... num_sentence\n",
            "0  88305  ...            1\n",
            "1  88306  ...            2\n",
            "2  88307  ...            1\n",
            "3  88308  ...            1\n",
            "4  88309  ...            5\n",
            "\n",
            "[5 rows x 4 columns]     hmid predicted_category\n",
            "0  88305            bonding\n",
            "1  88306        achievement\n",
            "2  88307          affection\n",
            "3  88308            bonding\n",
            "4  88309          affection\n",
            "(60321, 5) (40213, 4) (5, 2)\n"
          ],
          "name": "stdout"
        }
      ]
    },
    {
      "cell_type": "markdown",
      "metadata": {
        "id": "SvoLlh5MYyzK",
        "colab_type": "text"
      },
      "source": [
        "- Let’s make a copy of train and test data so that even if we have to make any changes in these datasets we would not lose the original datasets.\n",
        "\n"
      ]
    },
    {
      "cell_type": "code",
      "metadata": {
        "id": "rTodlg8jYamy",
        "colab_type": "code",
        "colab": {}
      },
      "source": [
        "train_copy=pd.read_csv('/content/hm_train.csv').copy()\n",
        "test_copy=pd.read_csv('/content/hm_test.csv').copy()\n",
        "submission_copy=pd.read_csv('/content/sample_submission.csv').copy()"
      ],
      "execution_count": 0,
      "outputs": []
    },
    {
      "cell_type": "markdown",
      "metadata": {
        "id": "FcuUmD84ZNdZ",
        "colab_type": "text"
      },
      "source": [
        "# Univariate Analysis"
      ]
    },
    {
      "cell_type": "code",
      "metadata": {
        "id": "mjnHiTCyZCi6",
        "colab_type": "code",
        "outputId": "c73534cc-8b89-4729-e778-3f45e9a1810d",
        "colab": {
          "base_uri": "https://localhost:8080/",
          "height": 230
        }
      },
      "source": [
        "print(train.dtypes,test.dtypes,submission.dtypes)"
      ],
      "execution_count": 6,
      "outputs": [
        {
          "output_type": "stream",
          "text": [
            "hmid                   int64\n",
            "reflection_period     object\n",
            "cleaned_hm            object\n",
            "num_sentence           int64\n",
            "predicted_category    object\n",
            "dtype: object hmid                  int64\n",
            "reflection_period    object\n",
            "cleaned_hm           object\n",
            "num_sentence          int64\n",
            "dtype: object hmid                   int64\n",
            "predicted_category    object\n",
            "dtype: object\n"
          ],
          "name": "stdout"
        }
      ]
    },
    {
      "cell_type": "code",
      "metadata": {
        "id": "94CdTCsMZb_-",
        "colab_type": "code",
        "outputId": "5c4be938-6863-47d0-d318-be2d1aa0e97a",
        "colab": {
          "base_uri": "https://localhost:8080/",
          "height": 158
        }
      },
      "source": [
        "train['predicted_category'].value_counts(normalize=True)\n",
        "# Read as percentage after multiplying by 100"
      ],
      "execution_count": 7,
      "outputs": [
        {
          "output_type": "execute_result",
          "data": {
            "text/plain": [
              "affection           0.346148\n",
              "achievement         0.336102\n",
              "bonding             0.108768\n",
              "enjoy_the_moment    0.107889\n",
              "leisure             0.070324\n",
              "nature              0.018683\n",
              "exercise            0.012085\n",
              "Name: predicted_category, dtype: float64"
            ]
          },
          "metadata": {
            "tags": []
          },
          "execution_count": 7
        }
      ]
    },
    {
      "cell_type": "code",
      "metadata": {
        "id": "8XoEmX1IZnW8",
        "colab_type": "code",
        "outputId": "630593f7-1c64-4760-fba3-160f8eb14c16",
        "colab": {
          "base_uri": "https://localhost:8080/",
          "height": 368
        }
      },
      "source": [
        "train['predicted_category'].value_counts(normalize=True).plot.bar()"
      ],
      "execution_count": 8,
      "outputs": [
        {
          "output_type": "execute_result",
          "data": {
            "text/plain": [
              "<matplotlib.axes._subplots.AxesSubplot at 0x7f3872c1d470>"
            ]
          },
          "metadata": {
            "tags": []
          },
          "execution_count": 8
        },
        {
          "output_type": "display_data",
          "data": {
            "image/png": "[encoded data removed]",
            "text/plain": [
              "<Figure size 432x288 with 1 Axes>"
            ]
          },
          "metadata": {
            "tags": []
          }
        }
      ]
    },
    {
      "cell_type": "markdown",
      "metadata": {
        "id": "9pEIGlmzZ7aA",
        "colab_type": "text"
      },
      "source": [
        "- exercise featurescontributes approx 2%, nature contributes 3.5 %, leisure contributes 7.5%, enjoy_the_moment does 10%, bonding does 10%, achievement does 34%, and affection does34.5 % to the population sample."
      ]
    },
    {
      "cell_type": "markdown",
      "metadata": {
        "id": "lkbxd7vPam8i",
        "colab_type": "text"
      },
      "source": [
        "On Looking at the datsets, we identified that there are 3 Data Types:\n",
        "\n",
        "- Continuous : reflection_period, cleaned_hm ,num_sentence\n",
        "\n",
        "- Categorical :Category\n",
        "\n",
        "- Text : cleaned_hm"
      ]
    },
    {
      "cell_type": "markdown",
      "metadata": {
        "id": "0XsaHQrl36aK",
        "colab_type": "text"
      },
      "source": [
        "Let's go for Continuous Data Type Exploration. We know that we use BarGraphs for Categorical variable, Histogram or ScatterPlot for continuous variables."
      ]
    },
    {
      "cell_type": "code",
      "metadata": {
        "id": "tEjVk25nZs1i",
        "colab_type": "code",
        "outputId": "11a76f9b-1a44-4159-af63-7d3ad2e95447",
        "colab": {
          "base_uri": "https://localhost:8080/",
          "height": 404
        }
      },
      "source": [
        "# reflection_period\n",
        "plt.figure(figsize=(6, 6))\n",
        "sns.countplot(train[\"reflection_period\"])\n",
        "plt.title('reflection_period')\n",
        "plt.show()"
      ],
      "execution_count": 9,
      "outputs": [
        {
          "output_type": "display_data",
          "data": {
            "image/png": "[encoded data removed]",
            "text/plain": [
              "<Figure size 432x432 with 1 Axes>"
            ]
          },
          "metadata": {
            "tags": []
          }
        }
      ]
    },
    {
      "cell_type": "code",
      "metadata": {
        "id": "q-Q59Hz95Jlr",
        "colab_type": "code",
        "outputId": "cb01efd5-57b5-47b1-e94a-e8fc95e8dfb0",
        "colab": {
          "base_uri": "https://localhost:8080/",
          "height": 404
        }
      },
      "source": [
        "# num_sentence\n",
        "plt.figure(figsize=(10, 6))\n",
        "sns.countplot(train[\"num_sentence\"])\n",
        "plt.title('num_sentence')\n",
        "plt.show()"
      ],
      "execution_count": 10,
      "outputs": [
        {
          "output_type": "display_data",
          "data": {
            "image/png": "[encoded data removed]",
            "text/plain": [
              "<Figure size 720x432 with 1 Axes>"
            ]
          },
          "metadata": {
            "tags": []
          }
        }
      ]
    },
    {
      "cell_type": "code",
      "metadata": {
        "id": "mzAtjLKL50Wh",
        "colab_type": "code",
        "outputId": "4362635a-07c2-4d0c-c1bb-00d2ecc8badd",
        "colab": {
          "base_uri": "https://localhost:8080/",
          "height": 405
        }
      },
      "source": [
        "# predicted_category\n",
        "plt.figure(figsize=(13, 6))\n",
        "sns.countplot(train[\"predicted_category\"])\n",
        "plt.title('predicted_category')\n",
        "plt.show()\n"
      ],
      "execution_count": 11,
      "outputs": [
        {
          "output_type": "display_data",
          "data": {
            "image/png": "[encoded data removed]",
            "text/plain": [
              "<Figure size 936x432 with 1 Axes>"
            ]
          },
          "metadata": {
            "tags": []
          }
        }
      ]
    },
    {
      "cell_type": "code",
      "metadata": {
        "id": "_VK5JKEx6QIg",
        "colab_type": "code",
        "outputId": "55318723-98ed-4e62-cee3-323607882023",
        "colab": {
          "base_uri": "https://localhost:8080/",
          "height": 383
        }
      },
      "source": [
        "# Pairplot for cross visualisation of continuous variables\n",
        "plt.figure(figsize=(30,30))\n",
        "sns.pairplot(train, diag_kind='kde');"
      ],
      "execution_count": 12,
      "outputs": [
        {
          "output_type": "display_data",
          "data": {
            "text/plain": [
              "<Figure size 2160x2160 with 0 Axes>"
            ]
          },
          "metadata": {
            "tags": []
          }
        },
        {
          "output_type": "display_data",
          "data": {
            "image/png": "[encoded data removed]",
            "text/plain": [
              "<Figure size 360x360 with 6 Axes>"
            ]
          },
          "metadata": {
            "tags": []
          }
        }
      ]
    },
    {
      "cell_type": "markdown",
      "metadata": {
        "id": "-Hu1rNqP7aes",
        "colab_type": "text"
      },
      "source": [
        "Data Preprocessing"
      ]
    },
    {
      "cell_type": "markdown",
      "metadata": {
        "id": "Ox8ZDCW67fAq",
        "colab_type": "text"
      },
      "source": [
        "- Checking Missing Values"
      ]
    },
    {
      "cell_type": "code",
      "metadata": {
        "id": "0bmb4uey7M6f",
        "colab_type": "code",
        "colab": {}
      },
      "source": [
        "def missing_value(df):\n",
        "    total = df.isnull().sum().sort_values(ascending = False)\n",
        "    percent = (df.isnull().sum()/df.isnull().count()*100).sort_values(ascending=False)\n",
        "    missing_df = pd.concat([total, percent], axis=1, keys = ['Total', 'Percent'])\n",
        "    return missing_df"
      ],
      "execution_count": 0,
      "outputs": []
    },
    {
      "cell_type": "code",
      "metadata": {
        "id": "LL_oHWy57k3X",
        "colab_type": "code",
        "outputId": "bfc899cf-c9f5-4db9-f236-6580238e8987",
        "colab": {
          "base_uri": "https://localhost:8080/",
          "height": 197
        }
      },
      "source": [
        "mis_train = missing_value(train)\n",
        "mis_train"
      ],
      "execution_count": 14,
      "outputs": [
        {
          "output_type": "execute_result",
          "data": {
            "text/html": [
              "<div>\n",
              "<style scoped>\n",
              "    .dataframe tbody tr th:only-of-type {\n",
              "        vertical-align: middle;\n",
              "    }\n",
              "\n",
              "    .dataframe tbody tr th {\n",
              "        vertical-align: top;\n",
              "    }\n",
              "\n",
              "    .dataframe thead th {\n",
              "        text-align: right;\n",
              "    }\n",
              "</style>\n",
              "<table border=\"1\" class=\"dataframe\">\n",
              "  <thead>\n",
              "    <tr style=\"text-align: right;\">\n",
              "      <th></th>\n",
              "      <th>Total</th>\n",
              "      <th>Percent</th>\n",
              "    </tr>\n",
              "  </thead>\n",
              "  <tbody>\n",
              "    <tr>\n",
              "      <th>predicted_category</th>\n",
              "      <td>0</td>\n",
              "      <td>0.0</td>\n",
              "    </tr>\n",
              "    <tr>\n",
              "      <th>num_sentence</th>\n",
              "      <td>0</td>\n",
              "      <td>0.0</td>\n",
              "    </tr>\n",
              "    <tr>\n",
              "      <th>cleaned_hm</th>\n",
              "      <td>0</td>\n",
              "      <td>0.0</td>\n",
              "    </tr>\n",
              "    <tr>\n",
              "      <th>reflection_period</th>\n",
              "      <td>0</td>\n",
              "      <td>0.0</td>\n",
              "    </tr>\n",
              "    <tr>\n",
              "      <th>hmid</th>\n",
              "      <td>0</td>\n",
              "      <td>0.0</td>\n",
              "    </tr>\n",
              "  </tbody>\n",
              "</table>\n",
              "</div>"
            ],
            "text/plain": [
              "                    Total  Percent\n",
              "predicted_category      0      0.0\n",
              "num_sentence            0      0.0\n",
              "cleaned_hm              0      0.0\n",
              "reflection_period       0      0.0\n",
              "hmid                    0      0.0"
            ]
          },
          "metadata": {
            "tags": []
          },
          "execution_count": 14
        }
      ]
    },
    {
      "cell_type": "code",
      "metadata": {
        "id": "ndzRboOf7_C8",
        "colab_type": "code",
        "outputId": "60ed7dad-fbed-4653-ca2e-46868d90fa7a",
        "colab": {
          "base_uri": "https://localhost:8080/",
          "height": 167
        }
      },
      "source": [
        "mis_test = missing_value(test)\n",
        "mis_test"
      ],
      "execution_count": 15,
      "outputs": [
        {
          "output_type": "execute_result",
          "data": {
            "text/html": [
              "<div>\n",
              "<style scoped>\n",
              "    .dataframe tbody tr th:only-of-type {\n",
              "        vertical-align: middle;\n",
              "    }\n",
              "\n",
              "    .dataframe tbody tr th {\n",
              "        vertical-align: top;\n",
              "    }\n",
              "\n",
              "    .dataframe thead th {\n",
              "        text-align: right;\n",
              "    }\n",
              "</style>\n",
              "<table border=\"1\" class=\"dataframe\">\n",
              "  <thead>\n",
              "    <tr style=\"text-align: right;\">\n",
              "      <th></th>\n",
              "      <th>Total</th>\n",
              "      <th>Percent</th>\n",
              "    </tr>\n",
              "  </thead>\n",
              "  <tbody>\n",
              "    <tr>\n",
              "      <th>num_sentence</th>\n",
              "      <td>0</td>\n",
              "      <td>0.0</td>\n",
              "    </tr>\n",
              "    <tr>\n",
              "      <th>cleaned_hm</th>\n",
              "      <td>0</td>\n",
              "      <td>0.0</td>\n",
              "    </tr>\n",
              "    <tr>\n",
              "      <th>reflection_period</th>\n",
              "      <td>0</td>\n",
              "      <td>0.0</td>\n",
              "    </tr>\n",
              "    <tr>\n",
              "      <th>hmid</th>\n",
              "      <td>0</td>\n",
              "      <td>0.0</td>\n",
              "    </tr>\n",
              "  </tbody>\n",
              "</table>\n",
              "</div>"
            ],
            "text/plain": [
              "                   Total  Percent\n",
              "num_sentence           0      0.0\n",
              "cleaned_hm             0      0.0\n",
              "reflection_period      0      0.0\n",
              "hmid                   0      0.0"
            ]
          },
          "metadata": {
            "tags": []
          },
          "execution_count": 15
        }
      ]
    },
    {
      "cell_type": "markdown",
      "metadata": {
        "id": "TQ2bpdQx9-iu",
        "colab_type": "text"
      },
      "source": [
        "Text Preprocessing"
      ]
    },
    {
      "cell_type": "code",
      "metadata": {
        "id": "uoIw1aQo7tTb",
        "colab_type": "code",
        "colab": {}
      },
      "source": [
        "#removing non-letter symbols and converting text in 'cleaned_hm' to lowercase \n",
        "train['cleaned_hm'] = train['cleaned_hm'].apply(lambda x: \"\".join(re.sub(r\"[^A-Za-z\\s]\", '',str(x))))\n",
        "test['cleaned_hm'] = test['cleaned_hm'].apply(lambda x: \"\".join(re.sub(r\"[^A-Za-z\\s]\",'',str(x))))"
      ],
      "execution_count": 0,
      "outputs": []
    },
    {
      "cell_type": "code",
      "metadata": {
        "id": "napszrpM-wg5",
        "colab_type": "code",
        "outputId": "fd7da901-82f9-42d5-c578-b91f38d6fab0",
        "colab": {
          "base_uri": "https://localhost:8080/",
          "height": 230
        }
      },
      "source": [
        "train['cleaned_hm']"
      ],
      "execution_count": 17,
      "outputs": [
        {
          "output_type": "execute_result",
          "data": {
            "text/plain": [
              "0        I went on a successful date with someone I fel...\n",
              "1        I was happy when my son got  marks in his exam...\n",
              "2              I went to the gym this morning and did yoga\n",
              "3        We had a serious talk with some friends of our...\n",
              "4        I went with grandchildren to butterfly display...\n",
              "                               ...                        \n",
              "60316    I got together with my best friend and baked c...\n",
              "60317                  I went to a restaurant with friends\n",
              "60318    The other day on Mechanical Turk I made over f...\n",
              "60319    Finished the semester today and aced majority ...\n",
              "60320    An event that made me happy in the past  month...\n",
              "Name: cleaned_hm, Length: 60321, dtype: object"
            ]
          },
          "metadata": {
            "tags": []
          },
          "execution_count": 17
        }
      ]
    },
    {
      "cell_type": "code",
      "metadata": {
        "id": "w72qFoje-jP_",
        "colab_type": "code",
        "colab": {}
      },
      "source": [
        "# lower casing the Text\n",
        "train['cleaned_hm'] = train['cleaned_hm'].apply(lambda x: \" \".join(x.lower() for x in x.split()))\n",
        "test['cleaned_hm'] = test['cleaned_hm'].apply(lambda x: \" \".join(x.lower() for x in x.split()))"
      ],
      "execution_count": 0,
      "outputs": []
    },
    {
      "cell_type": "code",
      "metadata": {
        "id": "AVT9w-02-3VX",
        "colab_type": "code",
        "outputId": "12b21488-55ff-4afe-9041-55a4a32dd402",
        "colab": {
          "base_uri": "https://localhost:8080/",
          "height": 230
        }
      },
      "source": [
        "train['cleaned_hm']"
      ],
      "execution_count": 19,
      "outputs": [
        {
          "output_type": "execute_result",
          "data": {
            "text/plain": [
              "0        i went on a successful date with someone i fel...\n",
              "1        i was happy when my son got marks in his exami...\n",
              "2              i went to the gym this morning and did yoga\n",
              "3        we had a serious talk with some friends of our...\n",
              "4        i went with grandchildren to butterfly display...\n",
              "                               ...                        \n",
              "60316    i got together with my best friend and baked c...\n",
              "60317                  i went to a restaurant with friends\n",
              "60318    the other day on mechanical turk i made over f...\n",
              "60319    finished the semester today and aced majority ...\n",
              "60320    an event that made me happy in the past months...\n",
              "Name: cleaned_hm, Length: 60321, dtype: object"
            ]
          },
          "metadata": {
            "tags": []
          },
          "execution_count": 19
        }
      ]
    },
    {
      "cell_type": "code",
      "metadata": {
        "id": "wUj-y5Hr_CxH",
        "colab_type": "code",
        "colab": {}
      },
      "source": [
        "#Removing punctuations\n",
        "#adding characters list which needs to remove that is PUNCTUATION\n",
        "punc = ['.', ',', '\"', \"'\", '?', '!', ':', ';', '(', ')', '[', ']', '{', '}',\"%\",'/','<','>','br','�','^','XX','XXXX','xxxx','xx']\n",
        "#removing extra characters\n",
        "train['cleaned_hm'] = train['cleaned_hm'].apply(lambda x: \" \".join(x for x in x.split() if x not in punc))\n",
        "test['cleaned_hm'] = test['cleaned_hm'].apply(lambda x: \" \".join(x for x in x.split() if x not in punc))"
      ],
      "execution_count": 0,
      "outputs": []
    },
    {
      "cell_type": "code",
      "metadata": {
        "id": "fyJg5Sge_dxv",
        "colab_type": "code",
        "colab": {}
      },
      "source": [
        "import nltk"
      ],
      "execution_count": 0,
      "outputs": []
    },
    {
      "cell_type": "code",
      "metadata": {
        "id": "TMk-wApF_iwZ",
        "colab_type": "code",
        "outputId": "d82ee971-0d07-4dfe-ee14-91be62e8b2bf",
        "colab": {
          "base_uri": "https://localhost:8080/",
          "height": 70
        }
      },
      "source": [
        "nltk.download('stopwords')"
      ],
      "execution_count": 22,
      "outputs": [
        {
          "output_type": "stream",
          "text": [
            "[nltk_data] Downloading package stopwords to /root/nltk_data...\n",
            "[nltk_data]   Package stopwords is already up-to-date!\n"
          ],
          "name": "stdout"
        },
        {
          "output_type": "execute_result",
          "data": {
            "text/plain": [
              "True"
            ]
          },
          "metadata": {
            "tags": []
          },
          "execution_count": 22
        }
      ]
    },
    {
      "cell_type": "code",
      "metadata": {
        "id": "6LUEvmny_kvE",
        "colab_type": "code",
        "colab": {}
      },
      "source": [
        "#removal of stopwords\n",
        "from nltk.corpus import stopwords\n",
        "stop = stopwords.words('english')\n",
        "train['cleaned_hm'] = train['cleaned_hm'].apply(lambda x: \" \".join(x for x in x.split() if x not in stop))\n",
        "test['cleaned_hm'] = test['cleaned_hm'].apply(lambda x: \" \".join(x for x in x.split() if x not in stop))"
      ],
      "execution_count": 0,
      "outputs": []
    },
    {
      "cell_type": "code",
      "metadata": {
        "id": "Mi6_QOGa_uuY",
        "colab_type": "code",
        "colab": {}
      },
      "source": [
        "#common words removal\n",
        "freq_train = pd.Series(' '.join(train['cleaned_hm']).split()).value_counts()[:10]\n",
        "freq_test = pd.Series(' '.join(test['cleaned_hm']).split()).value_counts()[:10]\n",
        "#freq_valid = pd.Series(' '.join(valid['Statement']).split()).value_counts()[:10]\n",
        "\n",
        "freq_train = list(freq_train.index)\n",
        "train['cleaned_hm'] = train['cleaned_hm'].apply(lambda x: \" \".join(x for x in x.split() if x not in freq_train))\n",
        "freq_test = list(freq_test.index)\n",
        "test['cleaned_hm'] = test['cleaned_hm'].apply(lambda x: \" \".join(x for x in x.split() if x not in freq_test))"
      ],
      "execution_count": 0,
      "outputs": []
    },
    {
      "cell_type": "code",
      "metadata": {
        "id": "qkLyhRY_AFiX",
        "colab_type": "code",
        "colab": {}
      },
      "source": [
        "#rare words removal\n",
        "freq_train_rare = pd.Series(' '.join(train['cleaned_hm']).split()).value_counts()[-10:]\n",
        "freq_train_rare = list(freq_train_rare.index)\n",
        "train['cleaned_hm'] = train['cleaned_hm'].apply(lambda x: \" \".join(x for x in x.split() if x not in freq_train_rare))\n",
        "\n",
        "freq_test_rare = pd.Series(' '.join(test['cleaned_hm']).split()).value_counts()[-10:]\n",
        "freq_test_rare = list(freq_test_rare.index)\n",
        "test['cleaned_hm'] = test['cleaned_hm'].apply(lambda x: \" \".join(x for x in x.split() if x not in freq_test_rare))"
      ],
      "execution_count": 0,
      "outputs": []
    },
    {
      "cell_type": "code",
      "metadata": {
        "id": "WXPsgmjrAQD8",
        "colab_type": "code",
        "colab": {}
      },
      "source": [
        "#STEMMING\n",
        "st = PorterStemmer()\n",
        "train['cleaned_hm']=train['cleaned_hm'].apply(lambda x: \" \".join([st.stem(w) for w in x.split()]))\n",
        "test['cleaned_hm']=test['cleaned_hm'].apply(lambda x: \" \".join([st.stem(w) for w in x.split()]))"
      ],
      "execution_count": 0,
      "outputs": []
    },
    {
      "cell_type": "code",
      "metadata": {
        "id": "Dmkz7hDOAbxs",
        "colab_type": "code",
        "outputId": "016b8710-38ee-4c46-8e57-e78d98213796",
        "colab": {
          "base_uri": "https://localhost:8080/",
          "height": 87
        }
      },
      "source": [
        "train.columns, test.columns"
      ],
      "execution_count": 27,
      "outputs": [
        {
          "output_type": "execute_result",
          "data": {
            "text/plain": [
              "(Index(['hmid', 'reflection_period', 'cleaned_hm', 'num_sentence',\n",
              "        'predicted_category'],\n",
              "       dtype='object'),\n",
              " Index(['hmid', 'reflection_period', 'cleaned_hm', 'num_sentence'], dtype='object'))"
            ]
          },
          "metadata": {
            "tags": []
          },
          "execution_count": 27
        }
      ]
    },
    {
      "cell_type": "markdown",
      "metadata": {
        "id": "LkIoH2PZJWT1",
        "colab_type": "text"
      },
      "source": [
        "onehotencoder = OneHotEncoder(categorical_features = [0,1])\n",
        "    X = onehotencoder.fit_transform(X).toarray()\n",
        "    sc_x = MinMaxScaler()\n",
        "    X = sc_x.fit_transform(X)"
      ]
    },
    {
      "cell_type": "code",
      "metadata": {
        "id": "hECx8df0As0i",
        "colab_type": "code",
        "outputId": "01f6cd62-90b4-446a-e344-3a5df5f34df2",
        "colab": {
          "base_uri": "https://localhost:8080/",
          "height": 107
        }
      },
      "source": [
        "#NOw We will convert the target variable into LabelEncoder\n",
        "y_train = train.loc[:,['predicted_category']]\n",
        "labelencoder1 = LabelEncoder()\n",
        "labelencoder1.fit(y_train.values)\n",
        "y_train=labelencoder1.transform(y_train)"
      ],
      "execution_count": 28,
      "outputs": [
        {
          "output_type": "stream",
          "text": [
            "/usr/local/lib/python3.6/dist-packages/sklearn/preprocessing/label.py:219: DataConversionWarning: A column-vector y was passed when a 1d array was expected. Please change the shape of y to (n_samples, ), for example using ravel().\n",
            "  y = column_or_1d(y, warn=True)\n",
            "/usr/local/lib/python3.6/dist-packages/sklearn/preprocessing/label.py:252: DataConversionWarning: A column-vector y was passed when a 1d array was expected. Please change the shape of y to (n_samples, ), for example using ravel().\n",
            "  y = column_or_1d(y, warn=True)\n"
          ],
          "name": "stderr"
        }
      ]
    },
    {
      "cell_type": "code",
      "metadata": {
        "id": "OMesLPmjNlpW",
        "colab_type": "code",
        "colab": {}
      },
      "source": [
        "try_train_ohe=y_train"
      ],
      "execution_count": 0,
      "outputs": []
    },
    {
      "cell_type": "code",
      "metadata": {
        "id": "rqT9oHXjRJOd",
        "colab_type": "code",
        "colab": {}
      },
      "source": [
        "# Removing .json extension\n",
        "train['reflection_period'] = train['reflection_period'].str.rstrip('h | m')\n",
        "test['reflection_period'] = test['reflection_period'].str.rstrip('h | m')"
      ],
      "execution_count": 0,
      "outputs": []
    },
    {
      "cell_type": "code",
      "metadata": {
        "id": "09Ec2NwhRXsI",
        "colab_type": "code",
        "outputId": "01ddf1d7-c1e2-4f07-e89c-dbd8dcb55e83",
        "colab": {
          "base_uri": "https://localhost:8080/",
          "height": 230
        }
      },
      "source": [
        "train['reflection_period']"
      ],
      "execution_count": 31,
      "outputs": [
        {
          "output_type": "execute_result",
          "data": {
            "text/plain": [
              "0        24\n",
              "1        24\n",
              "2        24\n",
              "3        24\n",
              "4        24\n",
              "         ..\n",
              "60316     3\n",
              "60317     3\n",
              "60318     3\n",
              "60319     3\n",
              "60320     3\n",
              "Name: reflection_period, Length: 60321, dtype: object"
            ]
          },
          "metadata": {
            "tags": []
          },
          "execution_count": 31
        }
      ]
    },
    {
      "cell_type": "code",
      "metadata": {
        "id": "RwlME0APOJ1D",
        "colab_type": "code",
        "colab": {}
      },
      "source": [
        "x = train.loc[:,[\"num_sentence\",\"reflection_period\",\"hmid\"]]\n",
        "x1 = test.loc[:,[\"num_sentence\",\"reflection_period\",\"hmid\"]]"
      ],
      "execution_count": 0,
      "outputs": []
    },
    {
      "cell_type": "code",
      "metadata": {
        "id": "cz5N_wDwB4A9",
        "colab_type": "code",
        "colab": {}
      },
      "source": [
        "# Converting the Text into list\n",
        "stat_train = train['cleaned_hm'].tolist()\n",
        "stat_test = test['cleaned_hm'].tolist()\n",
        "\n",
        "# Adding train and test data\n",
        "lis_stat = stat_train + stat_test "
      ],
      "execution_count": 0,
      "outputs": []
    },
    {
      "cell_type": "code",
      "metadata": {
        "id": "8XYLiq0rB36o",
        "colab_type": "code",
        "outputId": "3375b5fd-75f1-47bc-fac4-31b948f8b82e",
        "colab": {
          "base_uri": "https://localhost:8080/",
          "height": 107
        }
      },
      "source": [
        "#Fitting TFIDF on summary\n",
        "tfv_sum = TfidfVectorizer(max_features=5000, lowercase=True, analyzer='word',\n",
        " stop_words= 'english',ngram_range=(1,1))\n",
        "# Fitting TF-IDF to both training and test sets (semi-supervised learning)\n",
        "tfv_sum.fit(lis_stat)\n",
        "print(tfv_sum.vocabulary_)\n",
        "print(tfv_sum.idf_)\n",
        "xtrain_tfv_sum =  tfv_sum.transform(stat_train).toarray()\n",
        "xtest_tfv_sum = tfv_sum.transform(stat_test).toarray()\n",
        "type(xtrain_tfv_sum)"
      ],
      "execution_count": 34,
      "outputs": [
        {
          "output_type": "stream",
          "text": [
            "{'success': 4299, 'date': 1097, 'someon': 4091, 'felt': 1623, 'connect': 924, 'son': 4096, 'mark': 2667, 'examin': 1498, 'gym': 1956, 'morn': 2841, 'yoga': 4978, 'seriou': 3902, 'talk': 4383, 'friend': 1750, 'late': 2455, 'understood': 4671, 'good': 1862, 'hang': 1980, 'grandchildren': 1887, 'butterfli': 590, 'display': 1251, 'medit': 2717, 'night': 2961, 'recip': 3568, 'bread': 510, 'came': 614, 'spectacular': 4138, 'gift': 1829, 'elder': 1390, 'brother': 543, 'realli': 3556, 'surpris': 4341, 'yesterday': 4975, 'mom': 2817, 'birthday': 423, 'enjoy': 1438, 'watch': 4832, 'cupcak': 1061, 'war': 4816, 'teen': 4419, 'children': 750, 'rd': 3545, 'place': 3277, 'duti': 1350, 'video': 4763, 'game': 1795, 'complet': 892, 'mile': 2768, 'run': 3764, 'break': 511, 'make': 2633, 'feel': 1618, 'strong': 4270, 'movi': 2862, 'fun': 1768, 'short': 3954, 'gold': 1855, 'trade': 4573, 'hear': 2024, 'song': 4097, 'nearli': 2923, 'imposs': 2189, 'angri': 139, 'look': 2578, 'thought': 4484, 'eas': 1363, 'direct': 1225, 'happi': 1983, 'long': 2572, 'head': 2014, 'posit': 3340, 'youall': 4982, 'world': 4939, 'perform': 3211, 'test': 4451, 'prepar': 3379, 'help': 2048, 'neighbour': 2936, 'fix': 1661, 'car': 637, 'damag': 1085, 'manag': 2642, 'final': 1647, 'trophi': 4611, 'play': 3292, 'hot': 2122, 'kiss': 2402, 'girl': 1835, 'mail': 2626, 'yay': 4965, 'strawberri': 4250, 'lemonad': 2500, 'flavor': 1666, 'heart': 2026, 'class': 800, 'sister': 4004, 'abroad': 7, 'year': 4968, 'famili': 1571, 'member': 2723, 'cake': 605, 'today': 4530, 'amaz': 120, 'tast': 4395, 'type': 4651, 'peopl': 3203, 'choos': 767, 'unhappi': 4680, 'contrari': 948, 'popular': 3332, 'belief': 382, 'doesnt': 1277, 'come': 859, 'fame': 1570, 'fortun': 1717, 'materi': 2686, 'possess': 3341, 'grandmoth': 1893, 'start': 4201, 'walk': 4809, 'bed': 365, 'abl': 4, 'hit': 2084, 'spin': 4149, 'serv': 3904, 'tenni': 4438, 'nap': 2904, 'husband': 2157, 'afternoon': 70, 'sweet': 4360, 'cuddl': 1056, 'close': 819, 'phone': 3238, 'ring': 3710, 'custom': 1072, 'woke': 4918, 'fantast': 1578, 'breakfast': 512, 'egg': 1385, 'special': 4133, 'hamburg': 1971, 'pancak': 3125, 'gave': 1805, 'supris': 4334, 'visit': 4782, 'hous': 2127, 'sinc': 3995, 'consum': 938, 'bowl': 493, 'ramen': 3530, 'twice': 4643, 'delici': 1155, 'pick': 3248, 'daughter': 1098, 'airport': 90, 'convers': 954, 'way': 4838, 'home': 2092, 'wave': 4836, 'said': 3778, 'mama': 2640, 'mountain': 2857, 'hike': 2072, 'trail': 4577, 'compet': 887, 'anoth': 149, 'team': 4405, 'onlin': 3045, 'childhood': 749, 'grew': 1916, 'togeth': 4536, 'school': 3828, 'kid': 2389, 'weve': 4872, 'kinda': 2397, 'form': 1712, 'smoothli': 4054, 'everyon': 1489, 'hype': 2160, 'fight': 1640, 'slowli': 4041, 'thing': 4476, 'becom': 363, 'excit': 1505, 'know': 2415, 'becam': 362, 'score': 3837, 'point': 3311, 'winner': 4906, 'declar': 1130, 'knew': 2410, 'best': 399, 'particular': 3149, 'command': 867, 'expect': 1523, 'enemi': 1428, 'base': 328, 'vs': 4802, 'fail': 1559, 'tri': 4601, 'attack': 234, 'skill': 4017, 'luck': 2599, 'dodg': 1275, 'counter': 993, 'neighborhood': 2935, 'perfect': 3209, 'weather': 4843, 'fiance': 1633, 'dinner': 1222, 'offsit': 3028, 'colleagu': 848, 'great': 1908, 'stimul': 4228, 'discuss': 1239, 'older': 3036, 'pat': 3167, 'younger': 4986, 'lone': 2571, 'day': 1101, 'meet': 2719, 'receiv': 3563, 'award': 271, 'tough': 4560, 'loan': 2560, 'process': 3419, 'develop': 1194, 'flower': 1685, 'spous': 4169, 'big': 410, 'hug': 2137, 'offic': 3026, 'cook': 959, 'ate': 226, 'wonder': 4923, 'sausag': 3809, 'chees': 727, 'omelet': 3040, 'achiev': 29, 'daili': 1081, 'incom': 2200, 'goal': 1851, 'met': 2744, 'favorit': 1600, 'rememb': 3630, 'total': 4558, 'differ': 1212, 'mani': 2649, 'monday': 2826, 'like': 2534, 'spring': 4172, 'sun': 4312, 'bright': 529, 'temperatur': 4429, 'warm': 4820, 'shop': 3952, 'order': 3061, 'local': 2562, 'store': 4239, 'deliv': 1157, 'exam': 1497, 'result': 3681, 'distinct': 1257, 'grade': 1882, 'subject': 4289, 'bought': 485, 'tv': 4639, 'nation': 2910, 'cricket': 1035, 'match': 2683, 'seri': 3901, 'win': 4897, 'seal': 3856, 'bunch': 574, 'extra': 1540, 'sale': 3784, 'busi': 586, 'partner': 3152, 'promot': 3439, 'servic': 3906, 'job': 2339, 'chat': 716, 'happen': 1982, 'live': 2554, 'right': 3709, 'reconnect': 3575, 'earli': 1358, 'buy': 592, 'nice': 2955, 'tasti': 4396, 'love': 2594, 'lot': 2586, 'cold': 845, 'compar': 884, 'spent': 4144, 'miss': 2794, 'log': 2566, 'account': 25, 'mturk': 2870, 'saw': 3812, 'pend': 3199, 'approv': 181, 'accept': 16, 'slow': 4040, 'chuck': 778, 'roast': 3722, 'stove': 4242, 'havent': 2008, 'seen': 3874, 'coupl': 997, 'month': 2834, 'girlfriend': 1836, 'select': 3876, 'junior': 2364, 'engin': 1433, 'lead': 2474, 'familiar': 1572, 'mobil': 2805, 'compani': 880, 'smile': 4050, 'face': 1549, 'everyday': 1488, 'profit': 3428, 'took': 4548, 'dog': 1278, 'beauti': 361, 'grab': 1879, 'told': 4540, 'smart': 4046, 'yr': 4991, 'bad': 291, 'kick': 2387, 'im': 2178, 'sorri': 4106, 'wont': 4925, 'repeat': 3647, 'age': 73, 'realiz': 3555, 'mistak': 2797, 'ago': 77, 'men': 2728, 'sea': 3854, 'women': 4922, 'wait': 4806, 'stand': 4193, 'edg': 1378, 'water': 4833, 'scan': 3815, 'horizon': 2113, 'tini': 4519, 'ship': 3942, 'warn': 4823, 'moment': 2819, 'etern': 1473, 'comedi': 861, 'man': 2641, 'babi': 281, 'born': 476, 'lost': 2585, 'kg': 2386, 'weight': 4857, 'effort': 1384, 'learn': 2482, 'chicken': 744, 'hope': 2112, 'marri': 2669, 'tire': 4522, 'bicycl': 408, 'ride': 3706, 'knee': 2409, 'surgeri': 4339, 'open': 3047, 'present': 3384, 'exercis': 1511, 'tax': 4399, 'refund': 3598, 'work': 4931, 'pace': 3107, 'think': 4477, 'better': 404, 'els': 1403, 'gain': 1788, 'unhealthi': 4681, 'sens': 3891, 'superior': 4325, 'end': 1424, 'happier': 1984, 'focu': 1689, 'progress': 3432, 'prais': 3360, 'pushup': 3486, 'highest': 2067, 'ive': 2307, 'mother': 2848, 'celebr': 677, 'anniversari': 145, 'boyfriend': 496, 'book': 470, 'beach': 353, 'vacat': 4722, 'ticket': 4503, 'favourit': 1602, 'releas': 3619, 'awesom': 274, 'goosebump': 1869, 'reliv': 3626, 'theatr': 4462, 'citi': 791, 'mayor': 2697, 'given': 1838, 'valuabl': 4728, 'advic': 61, 'india': 2209, 'australia': 252, 'finish': 1652, 'paint': 3116, 'granddaught': 1888, 'bedroom': 366, 'ill': 2176, 'wake': 4808, 'normal': 2978, 'squat': 4178, 'workout': 4936, 'prior': 3406, 'relat': 3616, 'uncl': 4665, 'happiest': 1985, 'travel': 4593, 'visa': 4778, 'tourist': 4563, 'hi': 2060, 'task': 4394, 'appreci': 178, 'leader': 2475, 'past': 3163, 'hour': 2125, 'topper': 4553, 'min': 2776, 'otherwis': 3077, 'sleep': 4027, 'bodi': 462, 'recov': 3578, 'repair': 3645, 'product': 3422, 'turn': 4636, 'ita': 2298, 'import': 2187, 'commut': 879, 'surprisingli': 4342, 'power': 3357, 'impact': 2184, 'sport': 4165, 'club': 828, 'fresh': 1744, 'engag': 1432, 'parent': 3138, 'support': 4332, 'twitter': 4648, 'hardli': 1996, 'traffic': 4576, 'mechan': 2711, 'turk': 4634, 'reward': 3697, 'catch': 665, 'joy': 2353, 'wildlif': 4894, 'park': 3142, 'degre': 1147, 'industri': 2218, 'constip': 934, 'bowel': 492, 'clear': 806, 'read': 3549, 'motiv': 2853, 'attitud': 240, 'wit': 4915, 'sunris': 4319, 'shower': 3963, 'relax': 3618, 'nativ': 2911, 'sibl': 3971, 'rainbow': 3523, 'realiti': 3554, 'dad': 1077, 'staff': 4186, 'spend': 4143, 'professor': 3425, 'care': 643, 'ladi': 2431, 'lunch': 2606, 'seven': 3912, 'star': 4197, 'hotel': 2123, 'gossip': 1871, 'quit': 3506, 'old': 3035, 'restor': 3677, 'wife': 4888, 'share': 3927, 'steak': 4212, 'bottl': 483, 'wine': 4901, 'lung': 2609, 'hard': 1993, 'ask': 211, 'throw': 4495, 'footbal': 1699, 'appli': 173, 'sever': 3914, 'headach': 2015, 'errand': 1461, 'gather': 1804, 'usual': 4718, 'veggi': 4745, 'plate': 3288, 'leav': 2487, 'beat': 360, 'record': 3577, 'bench': 391, 'press': 3387, 'summer': 4311, 'holiday': 2090, 'began': 372, 'second': 3863, 'essay': 1466, 'journey': 2352, 'taj': 4378, 'mahal': 2624, 'stori': 4240, 'soon': 4100, 'train': 4579, 'agra': 78, 'delhi': 1152, 'confus': 921, 'iam': 2162, 'lie': 2518, 'reserv': 3661, 'upper': 4707, 'berth': 397, 'use': 4715, 'passeng': 3157, 'sit': 4006, 'lower': 2597, 'seat': 3860, 'ridicul': 3708, 'emperor': 1413, 'rest': 3673, 'pass': 3155, 'offer': 3025, 'mysteri': 2895, 'vegetarian': 4744, 'curri': 1068, 'bucket': 555, 'motion': 2852, 'paper': 3133, 'pay': 3179, 'food': 1696, 'money': 2828, 'iav': 2163, 'gotten': 1873, 'anyth': 161, 'free': 1733, 'conclud': 907, 'kill': 2392, 'eat': 1370, 'stop': 4237, 'conductor': 913, 'announc': 146, 'canat': 623, 'window': 4900, 'bunk': 576, 'idea': 2168, 'ai': 83, 'possibl': 3342, 'attempt': 236, 'avoid': 266, 'appear': 169, 'shout': 3960, 'question': 3497, 'shake': 3922, 'hindi': 2076, 'tell': 4425, 'sell': 3882, 'shot': 3957, 'alreadi': 113, 'station': 4207, 'continu': 945, 'recruit': 3581, 'track': 4571, 'halfway': 1966, 'indian': 2210, 'soldier': 4084, 'young': 4985, 'woman': 4921, 'speak': 4131, 'english': 1435, 'assist': 221, 'easi': 1364, 'accident': 20, 'merci': 2736, 'tend': 4435, 'especi': 1464, 'protect': 3452, 'western': 4870, 'public': 3464, 'transport': 4590, 'demand': 1159, 'teenag': 4420, 'feet': 1619, 'recommend': 3573, 'kind': 2396, 'fall': 1567, 'asleep': 212, 'suddenli': 4302, 'awak': 269, 'sound': 4112, 'jump': 2361, 'thank': 4458, 'taxi': 4400, 'arrang': 199, 'driver': 1324, 'east': 1367, 'gate': 1803, 'promptli': 3442, 'near': 2920, 'west': 4869, 'instead': 2254, 'arriv': 201, 'convinc': 957, 'alway': 118, 'sometim': 4093, 'case': 656, 'save': 3810, 'ga': 1786, 'closer': 820, 'accord': 24, 'planet': 3283, 'collect': 849, 'donat': 1286, 'bother': 482, 'argu': 192, 'therea': 4468, 'quickli': 3501, 'entranc': 1449, 'line': 2540, 'twenti': 4642, 'mostli': 2846, 'lack': 2429, 'imagin': 2180, 'everi': 1486, 'white': 4884, 'person': 3220, 'flock': 1677, 'door': 1289, 'glimps': 1843, 'build': 564, 'consid': 928, 'creator': 1027, 'ath': 227, 'moon': 2838, 'shed': 3930, 'tear': 4407, 'famou': 1574, 'marbl': 2658, 'peek': 3194, 'hold': 2087, 'camera': 615, 'high': 2065, 'deliber': 1154, 'soak': 4067, 'dawn': 1100, 'photo': 3239, 'angl': 138, 'hand': 1974, 'photograph': 3240, 'mosqu': 2845, 'captur': 636, 'rise': 3713, 'othersa': 3076, 'pose': 3339, 'pictur': 3253, 'blanket': 434, 'river': 3718, 'structur': 4274, 'spontan': 4163, 'cloud': 826, 'heaven': 2035, 'simpl': 3991, 'presenc': 3383, 'built': 565, 'symbol': 4367, 'memori': 2727, 'die': 1208, 'encourag': 1423, 'cooper': 967, 'tour': 4562, 'wall': 4811, 'admir': 51, 'gaze': 1806, 'touch': 4559, 'screen': 3847, 'interior': 2268, 'classic': 801, 'reflect': 3595, 'pool': 3326, 'outsid': 3085, 'blond': 444, 'eye': 1544, 'string': 4263, 'interrupt': 2274, 'souvenir': 4120, 'skin': 4019, 'hair': 1963, 'say': 3813, 'aiam': 84, 'pretti': 3391, 'sure': 4335, 'guy': 1954, 'chuckl': 779, 'introduc': 2278, 'franc': 1728, 'wear': 4842, 'funni': 1774, 'immedi': 2181, 'half': 1965, 'opposit': 3054, 'northern': 2980, 'kerala': 2381, 'southern': 4119, 'awkward': 277, 'entir': 1447, 'truli': 4618, 'pleasur': 3301, 'away': 272, 'stare': 4199, 'glanc': 1841, 'shift': 3939, 'father': 1593, 'crack': 1010, 'interview': 2276, 'flew': 1670, 'model': 2809, 'plane': 3282, 'yard': 4964, 'tree': 4598, 'road': 3719, 'minor': 2786, 'crash': 1016, 'space': 4123, 'fli': 1672, 'flight': 1673, 'incid': 2198, 'time': 4514, 'super': 4322, 'ice': 2164, 'cream': 1022, 'pack': 3109, 'particularli': 3150, 'creat': 1024, 'studi': 4279, 'word': 4929, 'want': 4815, 'bond': 465, 'groceri': 1921, 'deli': 1153, 'popcorn': 3331, 'neic': 2933, 'nephew': 2938, 'laugh': 2459, 'silli': 3987, 'period': 3214, 'drive': 1323, 'licens': 2516, 'wheeler': 4878, 'week': 4851, 'upcom': 4702, 'littl': 2553, 'leg': 2493, 'lift': 2529, 'longer': 2574, 'solv': 4089, 'issu': 2297, 'far': 1579, 'fro': 1756, 'master': 2680, 'crispi': 1040, 'tofu': 4535, 'deep': 1138, 'snow': 4062, 'cover': 1004, 'ground': 1928, 'melt': 2722, 'nearbi': 2921, 'life': 2520, 'balanc': 301, 'held': 2044, 'princip': 3403, 'post': 3343, 'ceo': 687, 'confirm': 919, 'notif': 2989, 'whatev': 4873, 'everyth': 1490, 'bonu': 468, 'creativ': 1026, 'enhanc': 1437, 'someth': 4092, 'bu': 552, 'disappear': 1231, 'left': 2491, 'key': 2383, 'motor': 2854, 'cycl': 1076, 'search': 3857, 'neighbor': 2934, 'xbox': 4960, 'ne': 2919, 'bay': 349, 'sunni': 4318, 'cool': 964, 'path': 3169, 'senior': 3890, 'colleg': 850, 'destin': 1189, 'centr': 684, 'explor': 1533, 'pet': 3223, 'rabbit': 3511, 'oldest': 3037, 'suffer': 4303, 'failur': 1560, 'reliev': 3623, 'item': 2302, 'amazon': 122, 'film': 1645, 'peanut': 3189, 'butter': 589, 'mm': 2801, 'john': 2344, 'oliv': 3038, 'hilari': 2073, 'child': 748, 'bit': 427, 'intim': 2277, 'sore': 4104, 'throat': 4493, 'brought': 545, 'soccer': 4070, 'mall': 2639, 'walker': 4810, 'card': 640, 'written': 4955, 'sweetest': 4361, 'note': 2985, 'surround': 4343, 'draw': 1312, 'wag': 4804, 'tail': 4377, 'previous': 3395, 'hurt': 2156, 'wasnt': 4830, 'lover': 2595, 'research': 3660, 'topic': 4552, 'nag': 2898, 'rock': 3725, 'band': 307, 'countri': 995, 'race': 3513, 'proud': 3455, 'unexpect': 4675, 'scrape': 3842, 'disabl': 1230, 'check': 720, 'small': 4044, 'dont': 1287, 'cent': 682, 'honestli': 2102, 'inch': 2197, 'led': 2490, 'problem': 3416, 'biggest': 412, 'concern': 905, 'sang': 3799, 'drink': 1322, 'pull': 3469, 'despit': 1187, 'overtim': 3098, 'cousin': 1002, 'launch': 2461, 'shine': 3940, 'set': 3908, 'buddi': 558, 'hockey': 2086, 'bring': 534, 'dot': 1292, 'physic': 3244, 'worri': 4941, 'anymor': 159, 'gorgeou': 1870, 'weigh': 4856, 'parti': 3146, 'goodnight': 1865, 'taco': 4375, 'earlier': 1359, 'boss': 478, 'restaur': 3675, 'kitten': 2406, 'sum': 4310, 'click': 811, 'sync': 4369, 'equat': 1456, 'lose': 2583, 'handl': 1976, 'thata': 4460, 'true': 4616, 'act': 35, 'insid': 2242, 'resist': 3665, 'motherinlaw': 2851, 'sick': 3972, 'sexi': 3917, 'trick': 4603, 'let': 2509, 'bath': 341, 'smell': 4049, 'puppi': 3476, 'huge': 2138, 'explain': 1531, 'didnt': 1207, 'deal': 1111, 'annoy': 147, 'blue': 452, 'mucha': 2872, 'salad': 3782, 'goodi': 1864, 'glass': 1842, 'red': 3584, 'write': 4953, 'email': 1406, 'reunit': 3689, 'mate': 2684, 'luke': 2604, 'project': 3433, 'enthusiast': 1446, 'dream': 1316, 'yogurt': 4979, 'afford': 67, 'minut': 2788, 'leaki': 2480, 'cooler': 965, 'decor': 1133, 'room': 3739, 'cardio': 642, 'afterward': 71, 'refresh': 3596, 'rain': 3522, 'sunlight': 4317, 'applic': 175, 'adopt': 54, 'cat': 664, 'stranger': 4248, 'attract': 241, 'area': 190, 'entertain': 1444, 'everywher': 1492, 'music': 2890, 'pleasant': 3299, 'experi': 1525, 'return': 3687, 'anytim': 162, 'hell': 2046, 'hire': 2080, 'bathroom': 342, 'ac': 13, 'unit': 4686, 'god': 1853, 'need': 2928, 'sweat': 4354, 'th': 4455, 'wed': 4847, 'loss': 2584, 'bet': 402, 'sare': 3801, 'spoke': 4160, 'exwif': 1543, 'plan': 3281, 'thursday': 4501, 'purchas': 3478, 'fifti': 1639, 'percent': 3207, 'retail': 3683, 'price': 3396, 'qualifi': 3491, 'garden': 1801, 'plant': 3285, 'rose': 3744, 'color': 851, 'clean': 804, 'tile': 4511, 'shini': 3941, 'compliment': 896, 'measur': 2707, 'pound': 3354, 'lesser': 2507, 'accid': 19, 'unforgett': 4678, 'boy': 495, 'cross': 1044, 'fast': 1588, 'unfortun': 4679, 'fell': 1620, 'wound': 4947, 'cri': 1033, 'hospit': 2119, 'safe': 3776, 'client': 812, 'readi': 3551, 'design': 1180, 'doubl': 1294, 'smoke': 4051, 'marijuana': 2663, 'appoint': 176, 'salari': 3783, 'bike': 413, 'medicin': 2716, 'regular': 3607, 'pharmaci': 3227, 'unus': 4697, 'tool': 4549, 'donald': 1285, 'duck': 1338, 'yummi': 4993, 'mango': 2648, 'eagl': 1356, 'understand': 4670, 'influenc': 2223, 'insignific': 2244, 'street': 4255, 'crazi': 1021, 'fund': 1770, 'competit': 888, 'somewher': 4095, 'rare': 3538, 'extens': 1537, 'abod': 6, 'shape': 3926, 'mood': 2837, 'affect': 64, 'outlook': 3084, 'scientif': 3832, 'shown': 3964, 'adjust': 49, 'habit': 1959, 'routin': 3753, 'constitut': 935, 'fact': 1554, 'control': 951, 'updat': 4703, 'recent': 3564, 'chines': 757, 'paid': 3114, 'transfer': 4584, 'debat': 1119, 'laptop': 2447, 'promis': 3437, 'satisfi': 3805, 'confer': 915, 'stay': 4210, 'increas': 2201, 'telugu': 4426, 'hero': 2054, 'speech': 4140, 'reduc': 3587, 'packag': 3110, 'group': 1929, 'pizza': 3276, 'bell': 384, 'sat': 3803, 'law': 2464, 'chocol': 763, 'custard': 1070, 'youngest': 4987, 'badminton': 294, 'market': 2668, 'greet': 1915, 'setup': 3911, 'tabl': 4373, 'treat': 4596, 'speed': 4141, 'km': 2408, 'kitchen': 2404, 'puzzl': 3487, 'websit': 4846, 'requir': 3657, 'step': 4218, 'insist': 2245, 'consist': 930, 'coffe': 841, 'toast': 4529, 'comic': 866, 'whilst': 4881, 'cocoa': 838, 'sunset': 4320, 'porch': 3333, 'target': 4393, 'sugar': 4305, 'candi': 627, 'remind': 3631, 'dollar': 1282, 'request': 3656, 'sushi': 4347, 'highschool': 2070, 'reunion': 3688, 'messag': 2741, 'wish': 4914, 'joke': 2348, 'mum': 2879, 'field': 1636, 'hors': 2118, 'mad': 2617, 'stun': 4285, 'recal': 3562, 'worki': 4934, 'reach': 3546, 'bless': 437, 'letter': 2510, 'univers': 4687, 'event': 1484, 'diamond': 1204, 'goe': 1854, 'begin': 374, 'natur': 2912, 'assum': 223, 'charm': 712, 'disc': 1233, 'seren': 3900, 'hurri': 2155, 'bird': 420, 'nest': 2942, 'dark': 1093, 'slight': 4034, 'gener': 1811, 'compos': 899, 'poem': 3310, 'respect': 3670, 'social': 4071, 'welfar': 4861, 'equip': 1457, 'light': 2530, 'orient': 3068, 'somewhat': 4094, 'difficult': 1213, 'permiss': 3217, 'challeng': 698, 'poor': 3328, 'minimum': 2783, 'cost': 981, 'commun': 877, 'pond': 3323, 'kayak': 2377, 'comput': 900, 'instal': 2250, 'rehears': 3611, 'friday': 1748, 'pm': 3307, 'trip': 4606, 'pud': 3467, 'payday': 3181, 'remain': 3628, 'birth': 422, 'twin': 4644, 'level': 2512, 'major': 2632, 'bloom': 446, 'frost': 1758, 'shoot': 3951, 'cub': 1053, 'season': 3859, 'cut': 1073, 'link': 2543, 'unexpectedli': 4676, 'later': 2456, 'particip': 3148, 'festiv': 1628, 'pleas': 3298, 'wrote': 4958, 'mba': 2698, 'assign': 220, 'sent': 3893, 'center': 683, 'send': 3889, 'kept': 2380, 'iphon': 2286, 'plu': 3304, 'basketbal': 336, 'medal': 2713, 'mvp': 2893, 'gear': 1807, 'id': 2167, 'resolut': 3666, 'seller': 3883, 'fit': 1659, 'thrown': 4496, 'amus': 129, 'elat': 1389, 'york': 4980, 'contact': 939, 'truck': 4615, 'expens': 1524, 'anticip': 153, 'calori': 612, 'weekend': 4853, 'hole': 2088, 'reason': 3558, 'cowork': 1007, 'prep': 3378, 'earn': 1360, 'belli': 385, 'comment': 870, 'costco': 983, 'cup': 1060, 'tea': 4402, 'sunshin': 4321, 'tulip': 4629, 'retir': 3684, 'breath': 516, 'heavili': 2037, 'lazi': 2471, 'worker': 4933, 'dress': 1317, 'origin': 3069, 'maid': 2625, 'meal': 2703, 'bag': 295, 'homemad': 2095, 'pad': 3112, 'thai': 4456, 'provid': 3458, 'ran': 3531, 'longest': 2575, 'durat': 1348, 'meatbal': 2709, 'lap': 2446, 'ingredi': 2228, 'evalu': 1482, 'forward': 1719, 'attend': 237, 'listen': 2548, 'heard': 2025, 'album': 96, 'hadnt': 1961, 'incent': 2196, 'hardwork': 1999, 'bibl': 407, 'tonight': 4547, 'fianc': 1631, 'magic': 2622, 'florida': 1682, 'juli': 2360, 'decid': 1127, 'biriyani': 421, 'hello': 2047, 'bonus': 469, 'regularli': 3608, 'youar': 4983, 'youll': 4984, 'intern': 2270, 'guidanc': 1944, 'perfectli': 3210, 'strive': 4265, 'aspect': 214, 'weak': 4840, 'episod': 1454, 'wallet': 4812, 'bare': 321, 'psycholog': 3461, 'martin': 2672, 'seligman': 3881, 'characterist': 707, 'rate': 3541, 'rank': 3537, 'gt': 1936, 'death': 1118, 'peac': 3185, 'underwear': 4672, 'pen': 3197, 'pal': 3119, 'vermont': 4755, 'soul': 4111, 'drove': 1329, 'town': 4568, 'apart': 164, 'dancer': 1088, 'encount': 1422, 'talent': 4382, 'impress': 2190, 'awe': 273, 'scenario': 3820, 'specif': 4136, 'struggl': 4275, 'reloc': 3627, 'wardrob': 4819, 'knowledg': 2416, 'drop': 1328, 'tape': 4391, 'brunch': 549, 'plenti': 3302, 'fish': 1657, 'app': 166, 'contain': 941, 'includ': 2199, 'ginger': 1833, 'backpack': 288, 'arm': 196, 'pur': 3477, 'tshirt': 4623, 'eagerli': 1355, 'function': 1769, 'cute': 1074, 'charact': 706, 'humbl': 2143, 'relationship': 3617, 'teacher': 4404, 'bake': 299, 'shrimp': 3966, 'bullet': 570, 'employ': 1416, 'foreign': 1703, 'expert': 1529, 'improv': 2192, 'establish': 1468, 'depart': 1167, 'rang': 3535, 'replac': 3649, 'televis': 4424, 'highli': 2068, 'medic': 2715, 'believ': 383, 'relief': 3622, 'extend': 1536, 'injuri': 2232, 'current': 1067, 'mentor': 2731, 'guitar': 1947, 'galleri': 1792, 'awhil': 276, 'equal': 1455, 'hack': 1960, 'glad': 1840, 'claim': 794, 'insur': 2259, 'academ': 14, 'todo': 4532, 'list': 2547, 'dig': 1215, 'london': 2570, 'credit': 1029, 'exclus': 1507, 'rescu': 3659, 'inner': 2235, 'program': 3430, 'basic': 332, 'python': 3488, 'mei': 2721, 'notic': 2988, 'tuck': 4626, 'drew': 1319, 'bedtim': 367, 'avail': 262, 'bank': 312, 'low': 2596, 'curl': 1065, 'accomplish': 23, 'easili': 1366, 'cheek': 724, 'cinema': 785, 'yearsw': 4971, 'struck': 4273, 'crush': 1051, 'memor': 2726, 'drizzl': 1326, 'hill': 2074, 'lake': 2433, 'lol': 2569, 'giggl': 1832, 'ultra': 4658, 'groom': 1923, 'brush': 550, 'buck': 554, 'sunday': 4314, 'drank': 1310, 'ounc': 3078, 'benefit': 393, 'fair': 1561, 'atmospher': 232, 'calm': 611, 'air': 86, 'sight': 3975, 'sooth': 4102, 'health': 2020, 'scienc': 3831, 'blood': 445, 'pressur': 3388, 'lessen': 2506, 'stress': 4259, 'strain': 4245, 'energ': 1429, 'nowaday': 2994, 'round': 3750, 'clock': 818, 'mind': 2777, 'besid': 398, 'extrem': 1542, 'delight': 1156, 'templ': 4430, 'succeed': 4298, 'tomato': 4542, 'soup': 4114, 'telescop': 4423, 'view': 4767, 'larger': 2449, 'length': 2503, 'inde': 2204, 'rs': 3757, 'quiet': 3502, 'cigar': 782, 'happili': 1986, 'clutter': 831, 'practic': 3359, 'brand': 507, 'dare': 1092, 'tweet': 4640, 'fan': 1575, 'pair': 3117, 'jean': 2323, 'inform': 2225, 'dave': 1099, 'netflix': 2944, 'grin': 1919, 'cancer': 625, 'treatment': 4597, 'doctor': 1272, 'noth': 2987, 'church': 781, 'heavi': 2036, 'cash': 657, 'quiz': 3507, 'correct': 977, 'crime': 1036, 'novel': 2991, 'hook': 2109, 'dish': 1242, 'leftov': 2492, 'telephon': 4422, 'adult': 56, 'join': 2346, 'wet': 4871, 'crave': 1018, 'sold': 4083, 'bate': 340, 'motel': 2847, 'rush': 3768, 'lotteri': 2587, 'snuggl': 4066, 'pile': 3258, 'firewood': 1654, 'smaller': 4045, 'piec': 3255, 'stack': 4184, 'toss': 4557, 'grill': 1918, 'bakeri': 300, 'pastri': 3166, 'thrift': 4490, 'chair': 696, 'philadelphia': 3232, 'spare': 4128, 'pork': 3334, 'wouldnt': 4946, 'chore': 770, 'nyc': 3004, 'daycar': 1103, 'laid': 2432, 'cancel': 624, 'lime': 2537, 'russia': 3769, 'mow': 2863, 'lawn': 2465, 'invit': 2283, 'qualiti': 3492, 'danc': 1087, 'random': 3533, 'student': 4278, 'fairli': 1563, 'experienc': 1526, 'chanc': 702, 'fulfil': 1765, 'burger': 579, 'fri': 1747, 'sauc': 3807, 'batch': 339, 'black': 431, 'mirror': 2790, 'shovel': 3961, 'driveway': 1325, 'patient': 3171, 'floor': 1679, 'dvd': 1351, 'incred': 2202, 'payment': 3182, 'lick': 2517, 'ghost': 1826, 'shell': 3933, 'trust': 4621, 'respons': 3672, 'crisp': 1039, 'diet': 1211, 'cloth': 825, 'excel': 1502, 'vacuum': 4723, 'taken': 4379, 'trash': 4592, 'swim': 4364, 'chennai': 736, 'dungeon': 1346, 'dragon': 1306, 'campaign': 617, 'richest': 3703, 'moist': 2815, 'syrup': 4372, 'irish': 2292, 'count': 992, 'feedback': 1616, 'state': 4205, 'lb': 2472, 'necessari': 2925, 'japanes': 2318, 'sentenc': 3894, 'giant': 1827, 'rais': 3526, 'motorcycl': 2855, 'thousand': 4485, 'hung': 2149, 'backyard': 289, 'straight': 4243, 'bing': 415, 'ultrasound': 4659, 'monitor': 2829, 'actual': 41, 'rel': 3615, 'joint': 2347, 'bliss': 440, 'werent': 4868, 'supplement': 4330, 'hen': 2049, 'cell': 678, 'significantli': 3981, 'caus': 670, 'art': 203, 'contest': 943, 'prize': 3412, 'scratch': 3843, 'basement': 330, 'board': 458, 'treasur': 4595, 'satisfact': 3804, 'forgotten': 1710, 'gif': 1828, 'hr': 2135, 'strength': 4256, 'rake': 3527, 'maintain': 2630, 'worth': 4945, 'beer': 370, 'vape': 4732, 'youtub': 4989, 'bask': 334, 'rebat': 3560, 'block': 442, 'jog': 2343, 'warmth': 4822, 'bar': 316, 'instagram': 2249, 'upload': 4706, 'brighter': 531, 'therapi': 4466, 'slept': 4031, 'begun': 376, 'futur': 1784, 'push': 3485, 'solut': 4088, 'describ': 1176, 'roommat': 3741, 'gone': 1859, 'carniv': 648, 'corp': 975, 'report': 3652, 'estim': 1471, 'stock': 4231, 'invest': 2280, 'noodl': 2976, 'verg': 4754, 'threw': 4488, 'clutch': 830, 'sigh': 3974, 'tightli': 4510, 'overwhelm': 3100, 'comfort': 865, 'embrac': 1408, 'headphon': 2017, 'adapt': 43, 'stage': 4187, 'actor': 39, 'oh': 3029, 'debut': 1122, 'director': 1227, 'polish': 3320, 'script': 3850, 'beomjin': 395, 'broken': 541, 'sadli': 3774, 'alon': 110, 'saeki': 3775, 'sudden': 4301, 'orphan': 3072, 'dull': 1342, 'aliv': 102, 'altern': 116, 'kim': 2394, 'ryan': 3772, 'jacket': 2309, 'twitch': 4647, 'renew': 3637, 'marriag': 2670, 'stadium': 4185, 'cheer': 725, 'seafood': 3855, 'pain': 3115, 'beam': 355, 'debt': 1121, 'dentist': 1165, 'internet': 2271, 'rub': 3758, 'bob': 460, 'stream': 4253, 'fox': 1725, 'role': 3731, 'skip': 4021, 'volunt': 4796, 'injur': 2231, 'recoveri': 3579, 'mini': 2780, 'hershey': 2055, 'finger': 1651, 'turkey': 4635, 'climb': 814, 'pretend': 3390, 'focus': 1690, 'spread': 4171, 'sisterinlaw': 4005, 'hearthston': 2029, 'tournament': 4564, 'mode': 2808, 'previou': 3394, 'videogam': 4764, 'poker': 3315, 'nervou': 2941, 'spot': 4166, 'divin': 1265, 'teach': 4403, 'honor': 2106, 'recept': 3565, 'wrong': 4956, 'horribl': 2116, 'saturday': 3806, 'mass': 2677, 'effect': 1382, 'starbuck': 4198, 'steal': 4214, 'ye': 4966, 'stretch': 4260, 'aunt': 249, 'caught': 669, 'news': 2950, 'switch': 4366, 'sour': 4115, 'mash': 2675, 'potato': 3349, 'instrument': 2258, 'portion': 3336, 'healthier': 2023, 'choic': 764, 'shelf': 3932, 'allow': 106, 'schedul': 3825, 'grandson': 1896, 'donut': 1288, 'wilder': 4892, 'sing': 3997, 'depot': 1171, 'cheeseburg': 728, 'homeless': 2094, 'higher': 2066, 'broke': 540, 'thrill': 4491, 'closest': 821, 'acknowledg': 30, 'entireti': 1448, 'pharrel': 3228, 'chunk': 780, 'cours': 1000, 'diabet': 1200, 'vision': 4781, 'prescript': 3382, 'veget': 4743, 'grow': 1930, 'christma': 776, 'april': 183, 'wildflow': 4893, 'vinyl': 4772, 'mental': 2729, 'emot': 1412, 'wellb': 4862, 'defin': 1145, 'content': 942, 'intens': 2263, 'judgement': 2357, 'overal': 3088, 'varieti': 4735, 'biolog': 418, 'econom': 1375, 'religi': 3624, 'philosoph': 3234, 'approach': 179, 'striven': 4266, 'identifi': 2170, 'sourc': 4116, 'variou': 4736, 'method': 2747, 'attain': 235, 'dunkin': 1347, 'confid': 917, 'backlog': 287, 'paperwork': 3134, 'rep': 3643, 'max': 2693, 'calf': 609, 'suck': 4300, 'rode': 3728, 'session': 3907, 'pro': 3413, 'therapist': 4467, 'mean': 2704, 'midterm': 2763, 'decent': 1126, 'linger': 2541, 'korean': 2421, 'barbecu': 317, 'cart': 654, 'okay': 3033, 'librari': 2513, 'exist': 1517, 'ellipt': 1402, 'lacross': 2430, 'purpl': 3480, 'signific': 3980, 'reaction': 3548, 'glow': 1848, 'burn': 581, 'discount': 1236, 'mailbox': 2627, 'stuff': 4282, 'chang': 703, 'healthi': 2022, 'stall': 4191, 'chirp': 761, 'hatch': 2006, 'individu': 2214, 'frame': 1727, 'anim': 140, 'exact': 1495, 'pilot': 3262, 'coverag': 1005, 'lucki': 2600, 'draft': 1304, 'deck': 1129, 'destroy': 1190, 'oppon': 3051, 'simultan': 3994, 'truffl': 4617, 'euphoria': 1479, 'supervisor': 4328, 'workplac': 4937, 'larg': 2448, 'babysit': 283, 'classroom': 803, 'stomach': 4234, 'bug': 563, 'multipl': 2877, 'publish': 3465, 'newspap': 2951, 'ex': 1494, 'text': 4453, 'dart': 1094, 'electron': 1395, 'govern': 1876, 'owe': 3101, 'starv': 4203, 'grate': 1902, 'excitedli': 1506, 'stray': 4251, 'pant': 3130, 'size': 4012, 'commit': 874, 'exhaust': 1513, 'hearti': 2030, 'jeopardi': 2328, 'philosophi': 3235, 'agre': 79, 'rib': 3699, 'creek': 1030, 'stronger': 4271, 'mention': 2730, 'repli': 3651, 'parlor': 3143, 'cherri': 738, 'marina': 2665, 'root': 3742, 'canal': 622, 'wrestlemania': 4951, 'garlic': 1802, 'salt': 3789, 'parmesan': 3144, 'mouth': 2859, 'rice': 3701, 'survey': 4344, 'taught': 4398, 'overwatch': 3099, 'construct': 936, 'site': 4007, 'dozen': 1302, 'quarter': 3493, 'leaf': 2477, 'rogu': 3729, 'mummi': 2882, 'voic': 4791, 'heal': 2019, 'ach': 28, 'knit': 2412, 'hat': 2005, 'abil': 3, 'obtain': 3013, 'sex': 3916, 'modif': 2812, 'cafe': 601, 'wind': 4898, 'blow': 448, 'spain': 4125, 'locat': 2563, 'tomorrow': 4544, 'nintendo': 2965, 'forest': 1704, 'figur': 1642, 'properli': 3446, 'pot': 3348, 'propos': 3448, 'radio': 3516, 'freshli': 1745, 'smoothi': 4053, 'cafeteria': 602, 'lay': 2469, 'golf': 1858, 'coach': 832, 'gun': 1950, 'till': 4512, 'upgrad': 4704, 'niec': 2959, 'ps': 3459, 'fighter': 1641, 'chest': 740, 'alfredo': 99, 'oatmeal': 3005, 'applianc': 174, 'profession': 3424, 'teammat': 4406, 'appl': 171, 'cheap': 717, 'dead': 1108, 'homework': 2099, 'condit': 909, 'unabl': 4661, 'howev': 2134, 'valid': 4725, 'excus': 1509, 'concept': 904, 'interact': 2266, 'potenti': 3350, 'real': 3552, 'dumb': 1343, 'muscl': 2887, 'tone': 4546, 'leadership': 2476, 'retreat': 3685, 'disturb': 1261, 'pokemon': 3314, 'etsi': 1476, 'couch': 986, 'sexual': 3918, 'resort': 3668, 'bartend': 327, 'human': 2142, 'hammock': 1973, 'foster': 1720, 'massag': 2678, 'dirti': 1229, 'piano': 3246, 'juici': 2359, 'initi': 2230, 'lectur': 2489, 'author': 255, 'playlist': 3295, 'hip': 2079, 'hop': 2111, 'fulli': 1766, 'treadmil': 4594, 'tag': 4376, 'legal': 2494, 'tidi': 4506, 'mess': 2740, 'romant': 3737, 'congratul': 922, 'genuin': 1815, 'tech': 4410, 'latest': 2457, 'canada': 620, 'supper': 4329, 'eldest': 1392, 'nuzzl': 3002, 'coat': 836, 'valu': 4727, 'android': 135, 'oper': 3048, 'terribl': 4447, 'grass': 1901, 'seed': 3871, 'dirt': 1228, 'caviti': 673, 'oral': 3058, 'sprout': 4175, 'green': 1913, 'poke': 3313, 'soil': 4081, 'latt': 2458, 'scrap': 3841, 'screenshot': 3848, 'deserv': 1179, 'activ': 38, 'sip': 4002, 'smooth': 4052, 'gruel': 1934, 'winter': 4907, 'welsh': 4864, 'feeder': 1617, 'singl': 4000, 'uk': 4655, 'chart': 713, 'vote': 4798, 'reader': 3550, 'magazin': 2621, 'web': 4845, 'multiplay': 2878, 'articl': 205, 'agenc': 74, 'imag': 2179, 'file': 1644, 'yell': 4973, 'faster': 1589, 'deadlin': 1110, 'bore': 475, 'congress': 923, 'advis': 62, 'healthcar': 2021, 'obama': 3006, 'chapter': 705, 'hesit': 2057, 'fudg': 1763, 'browni': 547, 'employe': 1417, 'splurg': 4158, 'savor': 3811, 'bourbon': 489, 'jelli': 2327, 'sandwich': 3798, 'quietli': 3504, 'messi': 2743, 'milk': 2772, 'chemo': 735, 'breast': 515, 'applaud': 172, 'rout': 3751, 'advanc': 57, 'salsa': 3788, 'certif': 692, 'goofi': 1867, 'south': 4118, 'nowher': 2995, 'meant': 2706, 'anyon': 160, 'theme': 4464, 'closet': 822, 'revisit': 3695, 'blast': 435, 'rough': 3748, 'ador': 55, 'chickfila': 745, 'contagi': 940, 'laundri': 2462, 'fold': 1691, 'scale': 3814, 'swing': 4365, 'proceed': 3418, 'craigslist': 1013, 'energet': 1430, 'repres': 3653, 'casino': 660, 'adventur': 59, 'fabric': 1547, 'crust': 1052, 'ad': 42, 'audio': 244, 'player': 3293, 'weed': 4850, 'bacon': 290, 'biscuit': 426, 'hash': 2003, 'brown': 546, 'tessa': 4450, 'hay': 2012, 'brick': 522, 'reset': 3662, 'microbiom': 2757, 'orthodontist': 3074, 'brace': 498, 'answer': 150, 'sad': 3773, 'gf': 1824, 'soap': 4068, 'opera': 3049, 'breez': 518, 'secur': 3869, 'toy': 4570, 'nba': 2915, 'fantasi': 1577, 'self': 3877, 'asid': 210, 'behavior': 379, 'fountain': 1723, 'shirt': 3944, 'boot': 473, 'exceed': 1501, 'quota': 3510, 'midnight': 2762, 'hummingbird': 2145, 'distanc': 1255, 'legend': 2495, 'zelda': 4995, 'wild': 4891, 'toad': 4527, 'frog': 1757, 'advisor': 63, 'thesi': 4471, 'stuck': 4276, 'chip': 758, 'cooki': 962, 'dough': 1296, 'thoma': 4481, 'straighten': 4244, 'code': 840, 'feral': 1626, 'orang': 3059, 'lotto': 2588, 'watermelon': 4835, 'jolli': 2349, 'media': 2714, 'grown': 1931, 'spici': 4146, 'alaska': 95, 'option': 3057, 'affirm': 66, 'consol': 931, 'enter': 1443, 'forc': 1700, 'submit': 4291, 'spaghetti': 4124, 'friendli': 1751, 'suppos': 4333, 'foot': 1698, 'dri': 1320, 'hide': 2064, 'seek': 3873, 'mix': 2799, 'snack': 4055, 'heater': 2034, 'robot': 3724, 'onion': 3044, 'willingli': 4895, 'argument': 193, 'pump': 3470, 'non': 2972, 'stick': 4224, 'skillet': 4018, 'french': 1742, 'infant': 2220, 'behav': 378, 'grand': 1885, 'freelanc': 1736, 'forgot': 1709, 'robin': 3723, 'bark': 324, 'accompani': 22, 'bun': 573, 'math': 2688, 'statist': 4208, 'modifi': 2813, 'troubl': 4612, 'biopsi': 419, 'benign': 394, 'financ': 1648, 'stroll': 4268, 'follow': 1693, 'opportun': 3052, 'pepperoni': 3205, 'fridg': 1749, 'indoor': 2215, 'disney': 1247, 'cheat': 719, 'slightli': 4035, 'boost': 472, 'thunderstorm': 4500, 'temptat': 4433, 'fat': 1591, 'cinnamon': 786, 'roll': 3734, 'snap': 4058, 'broccoli': 539, 'craft': 1012, 'texa': 4452, 'warmer': 4821, 'storm': 4241, 'lightn': 2533, 'crab': 1009, 'retriev': 3686, 'discov': 1238, 'freezer': 1740, 'coupon': 998, 'involv': 2284, 'household': 2129, 'august': 248, 'weeklong': 4855, 'colorado': 852, 'probabl': 3414, 'randomli': 3534, 'number': 2997, 'kindl': 2399, 'trek': 4599, 'blog': 443, 'arrest': 200, 'vehicl': 4746, 'suspect': 4348, 'decis': 1128, 'bubbl': 553, 'row': 3754, 'carrot': 653, 'mcdonald': 2699, 'lemon': 2499, 'publix': 3466, 'premium': 3376, 'hiatu': 2061, 'pregnanc': 3371, 'symptom': 4368, 'reminisc': 3632, 'breakthrough': 513, 'concert': 906, 'paycheck': 3180, 'refriger': 3597, 'kindergarten': 2398, 'quick': 3499, 'italian': 2300, 'fought': 1721, 'insan': 2240, 'peach': 3186, 'pie': 3254, 'unborn': 4663, 'persist': 3219, 'youv': 4990, 'remark': 3629, 'facebook': 1550, 'hall': 1967, 'hamilton': 1972, 'bulldog': 569, 'bbc': 350, 'facetim': 1551, 'loud': 2589, 'amazoncom': 123, 'situat': 4009, 'ireland': 2291, 'musician': 2891, 'cozi': 1008, 'gourmet': 1874, 'pr': 3358, 'middl': 2761, 'artist': 206, 'rekindl': 3614, 'carpet': 650, 'scene': 3821, 'mild': 2767, 'decompress': 1132, 'forecast': 1702, 'hungri': 2152, 'deer': 1141, 'upset': 4708, 'convey': 956, 'enlighten': 1439, 'mayb': 2695, 'sky': 4025, 'bride': 524, 'conquer': 925, 'meetup': 2720, 'podcast': 3309, 'delay': 1150, 'inspir': 2248, 'passion': 3158, 'eaten': 1371, 'skinni': 4020, 'chipotl': 759, 'wash': 4826, 'branch': 506, 'dilig': 1217, 'juri': 2366, 'court': 1001, 'psych': 3460, 'separ': 3897, 'punch': 3473, 'bbq': 351, 'vanilla': 4731, 'ocean': 3021, 'ebay': 1373, 'fitbit': 1660, 'roleplay': 3732, 'plot': 3303, 'battl': 346, 'dealer': 1112, 'cone': 914, 'beast': 359, 'chill': 752, 'dessert': 1188, 'deposit': 1170, 'spotless': 4168, 'urg': 4712, 'suppli': 4331, 'forum': 1718, 'limit': 2538, 'edit': 1379, 'oreo': 3064, 'sign': 3977, 'bean': 356, 'breweri': 521, 'sort': 4109, 'poop': 3327, 'cater': 667, 'bathtub': 343, 'drain': 1307, 'mainten': 2631, 'frozen': 1759, 'waffl': 4803, 'gonzaga': 1861, 'oregon': 3063, 'championship': 701, 'action': 37, 'junk': 2365, 'shoe': 3949, 'land': 2439, 'boston': 479, 'shi': 3937, 'load': 2558, 'san': 3793, 'outfit': 3081, 'jewelri': 2334, 'grant': 1898, 'potti': 3353, 'sampl': 3791, 'brew': 520, 'difficulti': 1214, 'certain': 690, 'semest': 3884, 'massiv': 2679, 'sweati': 4356, 'burrito': 582, 'freeli': 1737, 'spiritu': 4153, 'roof': 3738, 'distant': 1256, 'explod': 1532, 'haircut': 1964, 'twist': 4646, 'hardest': 1995, 'unusu': 4698, 'gratif': 1903, 'welcom': 4860, 'brain': 503, 'tension': 4440, 'beverag': 405, 'organ': 3065, 'solid': 4086, 'cashback': 658, 'pedicur': 3191, 'insomnia': 2246, 'subway': 4297, 'overnight': 3096, 'uniqu': 4685, 'dumpl': 1345, 'autom': 259, 'acquir': 33, 'page': 3113, 'toddler': 4531, 'elderli': 1391, 'depress': 1172, 'resolv': 3667, 'affection': 65, 'pepper': 3204, 'corn': 973, 'pan': 3124, 'oven': 3087, 'gravi': 1906, 'downtown': 1301, 'absolut': 9, 'drawn': 1314, 'militari': 2771, 'unlock': 4692, 'smartphon': 4047, 'review': 3693, 'sticker': 4225, 'corpor': 976, 'worship': 4943, 'lyric': 2612, 'daddi': 1079, 'ipod': 2288, 'prompt': 3441, 'audienc': 243, 'respond': 3671, 'favor': 1599, 'fellow': 1621, 'instructor': 2257, 'revis': 3694, 'regard': 3601, 'adhd': 48, 'prescrib': 3381, 'convent': 953, 'spice': 4145, 'ruin': 3761, 'improvis': 2193, 'playground': 3294, 'escap': 1463, 'needi': 2929, 'longdist': 2573, 'remov': 3636, 'toilet': 4537, 'grandkid': 1890, 'golden': 1856, 'typic': 4652, 'dine': 1220, 'estrang': 1472, 'stepson': 4220, 'energi': 1431, 'runner': 3765, 'probat': 3415, 'somebodi': 4090, 'educ': 1381, 'fulltim': 1767, 'crew': 1032, 'rebuild': 3561, 'coop': 966, 'thu': 4497, 'express': 1535, 'florenc': 1681, 'itali': 2299, 'elementari': 1397, 'categori': 666, 'crappi': 1015, 'penni': 3201, 'scratcher': 3844, 'doggi': 1279, 'logan': 2567, 'unknown': 4688, 'emerg': 1410, 'tip': 4521, 'veterinarian': 4760, 'fine': 1650, 'zone': 4998, 'crossfit': 1045, 'picnic': 3252, 'eager': 1354, 'resid': 3663, 'venu': 4752, 'bouquet': 488, 'usa': 4713, 'nostalg': 2982, 'hollywood': 2091, 'septemb': 3898, 'hunt': 2153, 'dread': 1315, 'assembl': 216, 'librarian': 2514, 'crowd': 1046, 'tuesday': 4627, 'brows': 548, 'grandfath': 1889, 'oversea': 3097, 'rent': 3639, 'ignor': 2173, 'main': 2628, 'machin': 2616, 'curios': 1063, 'net': 2943, 'critic': 1041, 'shock': 3948, 'anna': 144, 'monthli': 2836, 'saint': 3781, 'cathol': 668, 'isnt': 2296, 'capabl': 632, 'simpli': 3992, 'wing': 4903, 'statement': 4206, 'hometown': 2098, 'mid': 2760, 'scare': 3816, 'goodby': 1863, 'triumph': 4608, 'stupid': 4286, 'empti': 1418, 'remot': 3635, 'financi': 1649, 'horn': 2115, 'owl': 3102, 'scarf': 3817, 'mous': 2858, 'forget': 1706, 'goa': 1850, 'chicago': 742, 'oil': 3031, 'negoti': 2932, 'longterm': 2576, 'prospect': 3450, 'meat': 2708, 'membership': 2724, 'toadi': 4528, 'phd': 3230, 'omin': 3042, 'heed': 2041, 'exchang': 1504, 'warrior': 4825, 'conduct': 912, 'movement': 2860, 'inter': 2265, 'bangalor': 309, 'warranti': 4824, 'charg': 708, 'skateboard': 4014, 'alter': 115, 'urban': 4710, 'forev': 1705, 'architectur': 189, 'await': 268, 'skate': 4013, 'friendship': 1752, 'wolf': 4920, 'roam': 3721, 'border': 474, 'global': 1844, 'sincer': 3996, 'endless': 1425, 'aboard': 5, 'wheel': 4877, 'canadian': 621, 'februari': 1610, 'wrist': 4952, 'dearli': 1117, 'funer': 1773, 'blew': 438, 'strand': 4246, 'nobl': 2967, 'secretli': 3866, 'career': 644, 'statu': 4209, 'notch': 2984, 'spite': 4155, 'peak': 3187, 'expos': 1534, 'ace': 27, 'flu': 1686, 'octob': 3023, 'nostalgia': 2983, 'munnar': 2886, 'steep': 4217, 'narrat': 2905, 'enthusiasm': 1445, 'flat': 1664, 'tale': 4381, 'cow': 1006, 'thirti': 4480, 'fear': 1606, 'cherish': 737, 'badli': 293, 'british': 535, 'estat': 1469, 'produc': 3421, 'electr': 1394, 'headmast': 2016, 'associ': 222, 'exot': 1520, 'preserv': 3385, 'add': 44, 'properti': 3447, 'gloriou': 1846, 'valley': 4726, 'jame': 2314, 'wee': 4849, 'sentiment': 3895, 'neck': 2926, 'capit': 633, 'desir': 1181, 'freak': 1732, 'privaci': 3409, 'jungl': 2363, 'abund': 11, 'resourc': 3669, 'matter': 2690, 'bite': 429, 'bulli': 571, 'apolog': 165, 'annual': 148, 'instruct': 2256, 'eyebal': 1545, 'funniest': 1775, 'nicest': 2957, 'facil': 1553, 'increment': 2203, 'outing': 3082, 'camp': 616, 'freind': 1741, 'fairi': 1562, 'stone': 4235, 'wood': 4926, 'athlet': 228, 'vocat': 4789, 'bday': 352, 'platinum': 3291, 'societi': 4072, 'quesadilla': 3495, 'dispos': 1252, 'standin': 4195, 'aquarium': 184, 'wipe': 4908, 'softwar': 4080, 'exhibit': 1514, 'oklahoma': 3034, 'thunder': 4499, 'consider': 929, 'ir': 2289, 'singapor': 3998, 'fiancac': 1632, 'prestigi': 3389, 'firm': 1656, 'execut': 1510, 'hubbi': 2136, 'silk': 3985, 'ear': 1357, 'graduat': 1884, 'perk': 3215, 'karaok': 2372, 'theyr': 4474, 'orphanag': 3073, 'nd': 2918, 'pig': 3256, 'fascin': 1586, 'lesson': 2508, 'pregnant': 3372, 'nail': 2899, 'downstair': 1300, 'cruis': 1049, 'proper': 3445, 'leash': 2486, 'easier': 1365, 'shelter': 3934, 'manali': 2644, 'languag': 2445, 'hectic': 2038, 'wrap': 4949, 'distract': 1258, 'settl': 3909, 'perman': 3216, 'st': 4181, 'patrick': 3173, 'unemploy': 4673, 'pocket': 3308, 'regain': 3600, 'trap': 4591, 'domest': 1283, 'environ': 1452, 'digit': 1216, 'academi': 15, 'bachelor': 285, 'pacif': 3108, 'broadway': 538, 'wii': 4890, 'knock': 2413, 'notifi': 2990, 'chess': 739, 'keyboard': 2384, 'kite': 2405, 'island': 2295, 'object': 3008, 'repeatedli': 3648, 'youth': 4988, 'automat': 260, 'factor': 1555, 'fourth': 1724, 'speaker': 4132, 'heat': 2033, 'campu': 619, 'util': 4720, 'tie': 4507, 'harder': 1994, 'vintag': 4771, 'ski': 4016, 'umbrella': 4660, 'miami': 2752, 'easter': 1368, 'princess': 3402, 'dr': 1303, 'fruit': 1760, 'dalla': 1083, 'antonio': 155, 'zoo': 4999, 'feed': 1615, 'giraff': 1834, 'deliveri': 1158, 'furnitur': 1780, 'learnt': 2484, 'fetch': 1629, 'anxiou': 157, 'lifelong': 2524, 'condo': 911, 'scout': 3838, 'purpos': 3481, 'chariti': 711, 'guest': 1942, 'luckili': 2601, 'drug': 1330, 'lend': 2502, 'feb': 1609, 'landscap': 2443, 'march': 2659, 'pray': 3362, 'prayer': 3363, 'sand': 3796, 'theyv': 4475, 'noon': 2977, 'privat': 3410, 'autism': 256, 'autist': 257, 'fatherinlaw': 1594, 'aunti': 250, 'certifi': 693, 'prom': 3435, 'wellbehav': 4863, 'mr': 2865, 'utter': 4721, 'rental': 3640, 'nurseri': 3000, 'lent': 2505, 'parad': 3135, 'newer': 2947, 'olymp': 3039, 'weightlift': 4858, 'resum': 3682, 'sleepov': 4030, 'north': 2979, 'homecook': 2093, 'male': 2637, 'union': 4684, 'snug': 4065, 'chin': 755, 'eyelid': 1546, 'peel': 3195, 'daya': 1102, 'known': 2417, 'frequent': 1743, 'plastic': 3287, 'orlando': 3070, 'exgirlfriend': 1512, 'expir': 1530, 'toronto': 4556, 'flow': 1684, 'mingl': 2779, 'discharg': 1234, 'span': 4126, 'greatli': 1911, 'mutual': 2892, 'lean': 2481, 'hurdl': 2154, 'technic': 4411, 'error': 1462, 'qualif': 3490, 'stood': 4236, 'address': 47, 'orlean': 3071, 'brief': 527, 'paus': 3177, 'syndrom': 4370, 'gymnast': 1957, 'diagnosi': 1203, 'classmat': 802, 'denver': 1166, 'bahama': 297, 'breed': 517, 'advertis': 60, 'factori': 1556, 'farm': 1583, 'counti': 994, 'refer': 3590, 'laughter': 2460, 'tamilnadu': 4387, 'protest': 3454, 'berri': 396, 'stabil': 4182, 'studio': 4280, 'access': 17, 'bead': 354, 'attent': 238, 'carolina': 649, 'mint': 2787, 'germin': 1820, 'mnc': 2802, 'ton': 4545, 'austin': 251, 'crawl': 1020, 'priceless': 3397, 'greatest': 1910, 'stumbl': 4283, 'box': 494, 'basi': 331, 'constantli': 933, 'throne': 4494, 'hangout': 1981, 'dental': 1164, 'poster': 3346, 'afraid': 68, 'brazil': 509, 'graphic': 1899, 'ikea': 2175, 'mexico': 2750, 'liver': 2555, 'transplant': 4589, 'weird': 4859, 'michigan': 2755, 'unseason': 4695, 'castl': 662, 'basebal': 329, 'danger': 1091, 'la': 2425, 'vega': 4741, 'stamp': 4192, 'similar': 3990, 'humor': 2147, 'republ': 3654, 'weekday': 4852, 'villag': 4769, 'rural': 3767, 'ceremoni': 689, 'term': 4444, 'enrol': 1441, 'procedur': 3417, 'appeal': 168, 'judg': 2356, 'jersey': 2330, 'nj': 2966, 'auction': 242, 'wifi': 4889, 'ipad': 2285, 'resign': 3664, 'react': 3547, 'trampolin': 4581, 'cast': 661, 'parttim': 3153, 'skype': 4026, 'cam': 613, 'elect': 1393, 'veteran': 4759, 'forth': 1716, 'thorough': 4482, 'clinic': 815, 'defend': 1144, 'flash': 1663, 'transit': 4586, 'diaper': 1205, 'handmad': 1977, 'prosper': 3451, 'shipment': 3943, 'holi': 2089, 'crisi': 1038, 'raini': 3525, 'windi': 4899, 'courag': 999, 'print': 3404, 'anxieti': 156, 'drunk': 1333, 'shouldnt': 3959, 'alcohol': 97, 'directli': 1226, 'semi': 3885, 'collar': 847, 'owner': 3103, 'standard': 4194, 'papa': 3132, 'grandpa': 1894, 'stroke': 4267, 'merit': 2737, 'ward': 4818, 'fashion': 1587, 'huski': 2158, 'brainstorm': 504, 'hundr': 2148, 'pc': 3184, 'punk': 3474, 'drum': 1331, 'recogn': 3571, 'ball': 303, 'patienc': 3170, 'extraordinari': 1541, 'costa': 982, 'rica': 3700, 'pennsylvania': 3202, 'diseas': 1240, 'june': 2362, 'histori': 2083, 'exactli': 1496, 'float': 1676, 'mundan': 2884, 'desert': 1178, 'clap': 797, 'programm': 3431, 'wick': 4885, 'liter': 2550, 'internship': 2272, 'gang': 1797, 'ethnic': 1475, 'bracelet': 499, 'comeback': 860, 'mainli': 2629, 'auditorium': 247, 'loos': 2580, 'pickup': 3251, 'grandpar': 1895, 'sidewalk': 3973, 'vividli': 4787, 'scholarship': 3827, 'wendi': 4867, 'mu': 2871, 'unlimit': 4690, 'artwork': 207, 'nashvil': 2908, 'nomin': 2971, 'addit': 46, 'trial': 4602, 'circumst': 790, 'hourli': 2126, 'wage': 4805, 'mari': 2662, 'dy': 1353, 'featur': 1608, 'intellig': 2261, 'guard': 1939, 'tom': 4541, 'mileston': 2770, 'steakhous': 4213, 'remodel': 3634, 'vet': 4758, 'excess': 1503, 'itch': 2301, 'protein': 3453, 'carb': 639, 'butt': 588, 'diy': 1268, 'patio': 3172, 'hassl': 2004, 'pre': 3364, 'leagu': 2478, 'divis': 1266, 'scaveng': 3819, 'jimmi': 2337, 'token': 4538, 'recreat': 3580, 'chord': 769, 'landmark': 2442, 'convert': 955, 'rupe': 3766, 'style': 4287, 'effici': 1383, 'iceland': 2166, 'dota': 1293, 'outdoor': 3080, 'exit': 1518, 'jeep': 2325, 'thinker': 4478, 'flourish': 1683, 'translat': 4587, 'greek': 1912, 'eudaimonia': 1478, 'virtu': 4775, 'ethic': 1474, 'emphasi': 1414, 'millennium': 2774, 'amartya': 119, 'sen': 3888, 'promin': 3436, 'ed': 1377, 'diener': 1210, 'ruut': 3771, 'veenhoven': 4739, 'paul': 3176, 'anand': 132, 'grind': 1920, 'avid': 264, 'monkey': 2830, 'gees': 1808, 'eleph': 1398, 'tiger': 4508, 'lion': 2544, 'penguin': 3200, 'polar': 3316, 'bear': 357, 'fed': 1611, 'beef': 369, 'complement': 891, 'technolog': 4414, 'damn': 1086, 'pure': 3479, 'elev': 1399, 'grandma': 1891, 'cd': 674, 'hobbi': 2085, 'common': 876, 'profess': 3423, 'uncondit': 4667, 'optim': 3055, 'cultur': 1059, 'appropri': 180, 'hisher': 2081, 'withdraw': 4916, 'debit': 1120, 'renov': 3638, 'introvert': 2279, 'occurr': 3020, 'labor': 2428, 'recognit': 3572, 'gail': 1787, 'johnson': 2345, 'secret': 3865, 'discourag': 1237, 'armi': 197, 'charger': 709, 'intent': 2264, 'snapchat': 4059, 'acquaint': 32, 'garag': 1799, 'paw': 3178, 'vast': 4738, 'herd': 2052, 'lil': 2535, 'ecstat': 1376, 'copi': 970, 'complic': 895, 'valentin': 4724, 'admiss': 52, 'barley': 325, 'pun': 3472, 'chilli': 753, 'parcel': 3137, 'complex': 894, 'weav': 4844, 'lincoln': 2539, 'theater': 4461, 'nc': 2916, 'tremend': 4600, 'rocket': 3726, 'enabl': 1420, 'cage': 604, 'termin': 4445, 'wore': 4930, 'matern': 2687, 'preciou': 3367, 'wast': 4831, 'wow': 4948, 'wise': 4913, 'growth': 1932, 'observ': 3010, 'misunderstand': 2798, 'specialsh': 4134, 'yearswhenev': 4972, 'completey': 893, 'wrongso': 4957, 'madli': 2618, 'heri': 2053, 'deadlift': 1109, 'chief': 746, 'turtl': 4637, 'pride': 3398, 'collag': 846, 'pursuit': 3484, 'weekli': 4854, 'daysbecaus': 1105, 'highway': 2071, 'blizzard': 441, 'sheet': 3931, 'bundl': 575, 'ahead': 82, 'loop': 2579, 'immens': 2182, 'pub': 3463, 'ab': 0, 'sweep': 4358, 'premis': 3375, 'nobodi': 2968, 'soda': 4075, 'bagel': 296, 'offici': 3027, 'pursu': 3483, 'inlaw': 2233, 'pilgrimag': 3259, 'bigger': 411, 'caramel': 638, 'cheesi': 730, 'bs': 551, 'narrow': 2906, 'mattress': 2691, 'disneyland': 1248, 'harsh': 2001, 'dearest': 1116, 'workshop': 4938, 'dear': 1115, 'sew': 3915, 'stuf': 4281, 'desk': 1182, 'deduct': 1136, 'fellowship': 1622, 'nan': 2902, 'purs': 3482, 'clearanc': 807, 'sailboat': 3780, 'dividend': 1264, 'voucher': 4799, 'botan': 481, 'costli': 984, 'institut': 2255, 'correctli': 978, 'vend': 4748, 'spit': 4154, 'schoolmat': 3829, 'migrat': 2765, 'candl': 629, 'document': 1273, 'safeti': 3777, 'signal': 3978, 'bridal': 523, 'baptiz': 315, 'januari': 2316, 'occas': 3015, 'fanci': 1576, 'whenev': 4879, 'redo': 3586, 'dresser': 1318, 'chalk': 697, 'spell': 4142, 'bee': 368, 'carri': 651, 'anywher': 163, 'ok': 3032, 'soror': 4105, 'divorc': 1267, 'honest': 2101, 'core': 971, 'wire': 4909, 'outcom': 3079, 'analysi': 130, 'host': 2120, 'banana': 306, 'luxuri': 2611, 'radiat': 3515, 'abus': 12, 'nugget': 2996, 'oppos': 3053, 'overjoy': 3094, 'philli': 3233, 'subsequ': 4294, 'documentari': 1274, 'climat': 813, 'overcom': 3090, 'obstacl': 3012, 'champion': 700, 'chihuahua': 747, 'unsur': 4696, 'bargain': 322, 'gratitud': 1904, 'journal': 2351, 'organis': 3066, 'canyon': 630, 'district': 1260, 'tutor': 4638, 'grace': 1880, 'alabama': 92, 'regret': 3606, 'spoon': 4164, 'wicket': 4886, 'jar': 2319, 'clip': 816, 'burden': 578, 'shoulder': 3958, 'comedian': 862, 'wednesday': 4848, 'printer': 3405, 'bow': 491, 'yearli': 4969, 'gluten': 1849, 'cheaper': 718, 'tenth': 4442, 'silver': 3988, 'coin': 842, 'buri': 580, 'batteri': 345, 'pup': 3475, 'complain': 889, 'distribut': 1259, 'chef': 731, 'subscrib': 4292, 'commiss': 873, 'ford': 1701, 'confess': 916, 'tradit': 4575, 'len': 2501, 'freez': 1739, 'awok': 278, 'vow': 4800, 'inherit': 2229, 'wwe': 4959, 'raw': 3543, 'legendari': 2496, 'hawaii': 2009, 'van': 4730, 'reciev': 3567, 'ncaa': 2917, 'bracket': 500, 'francisco': 1729, 'substanti': 4295, 'nick': 2958, 'caribbean': 646, 'europ': 1480, 'clariti': 798, 'prison': 3408, 'candid': 628, 'verbal': 4753, 'wrestl': 4950, 'doll': 1281, 'almond': 109, 'privileg': 3411, 'bud': 556, 'archer': 188, 'hulu': 2140, 'diego': 1209, 'combin': 857, 'california': 610, 'hint': 2078, 'sooner': 4101, 'tennesse': 4437, 'restur': 3680, 'bingo': 417, 'lock': 2564, 'genet': 1812, 'disord': 1250, 'chose': 771, 'contract': 946, 'shit': 3945, 'bonfir': 467, 'nurs': 2999, 'vocabulari': 4788, 'helicopt': 2045, 'bat': 338, 'scooter': 3835, 'lego': 2497, 'cabin': 597, 'titl': 4526, 'strike': 4262, 'chick': 743, 'africa': 69, 'lawsuit': 2467, 'shave': 3929, 'sceneri': 3822, 'chosen': 772, 'coast': 834, 'honeymoon': 2104, 'novemb': 2992, 'pencil': 3198, 'consecut': 927, 'flatter': 1665, 'tight': 4509, 'showroom': 3965, 'selfi': 3879, 'recit': 3569, 'wasnat': 4829, 'desktop': 1183, 'ti': 4502, 'raffl': 3517, 'uninterrupt': 4683, 'bulk': 567, 'conveni': 952, 'sock': 4073, 'mold': 2816, 'gallon': 1793, 'deceas': 1124, 'engrav': 1436, 'conflict': 920, 'toe': 4533, 'costum': 985, 'tow': 4565, 'pamper': 3123, 'buffet': 562, 'reorgan': 3642, 'spoken': 4161, 'vigor': 4768, 'recharg': 3566, 'dehydr': 1149, 'thrive': 4492, 'thoroughli': 4483, 'background': 286, 'sophomor': 4103, 'amazingli': 121, 'experiment': 1528, 'dramat': 1309, 'temporarili': 4432, 'prevent': 3392, 'wors': 4942, 'odd': 3024, 'meaning': 2705, 'server': 3905, 'sink': 4001, 'germani': 1819, 'montana': 2833, 'mug': 2875, 'fuzzi': 1785, 'split': 4157, 'compon': 898, 'hedonist': 2040, 'unpleas': 4694, 'eudaimon': 1477, 'deepli': 1140, 'tommi': 4543, 'histor': 2082, 'china': 756, 'airplan': 89, 'expand': 1521, 'hidden': 2063, 'mike': 2766, 'suggest': 4306, 'preschool': 3380, 'herb': 2051, 'checkup': 722, 'indic': 2213, 'broad': 537, 'useless': 4716, 'strang': 4247, 'analyz': 131, 'perspect': 3222, 'badg': 292, 'definit': 1146, 'upbeat': 4701, 'cola': 844, 'photographi': 3241, 'sweater': 4355, 'approxim': 182, 'diagnos': 1202, 'budget': 559, 'freedom': 1735, 'swam': 4353, 'guess': 1941, 'neg': 2930, 'lab': 2426, 'doubt': 1295, 'transact': 4582, 'rectifi': 3582, 'ooti': 3046, 'brake': 505, 'kodaikan': 2418, 'newli': 2949, 'spa': 4122, 'victori': 4762, 'determin': 1191, 'happyit': 1989, 'oclock': 3022, 'friendsw': 1754, 'jesu': 2331, 'handicap': 1975, 'lord': 2582, 'momentum': 2822, 'strengthen': 4257, 'burst': 583, 'cracker': 1011, 'splash': 4156, 'ego': 1387, 'gettogeth': 1823, 'mea': 2701, 'clam': 795, 'chronic': 777, 'yeah': 4967, 'ventur': 4751, 'reput': 3655, 'chain': 694, 'grasp': 1900, 'dj': 1269, 'virginia': 4774, 'staircas': 4190, 'allah': 103, 'meter': 2746, 'american': 126, 'refus': 3599, 'gap': 1798, 'tank': 4389, 'hostel': 2121, 'flirt': 1675, 'buse': 584, 'sofa': 4076, 'cookout': 963, 'roadsid': 3720, 'nicer': 2956, 'spectacl': 4137, 'walmart': 4813, 'plumb': 3305, 'fedex': 1613, 'karat': 2373, 'gpa': 1878, 'cure': 1062, 'vendor': 4749, 'ya': 4961, 'uplift': 4705, 'slide': 4033, 'rocki': 3727, 'stitch': 4230, 'wineri': 4902, 'ankl': 142, 'landlord': 2441, 'newest': 2948, 'heartfelt': 2028, 'balconi': 302, 'ray': 3544, 'twelv': 4641, 'juic': 2358, 'sweetheart': 4362, 'leak': 2479, 'remiss': 3633, 'stabl': 4183, 'bridesmaid': 525, 'mar': 2656, 'quot': 3509, 'substitut': 4296, 'handwritten': 1979, 'sub': 4288, 'harri': 2000, 'longtim': 2577, 'addict': 45, 'wander': 4814, 'goodwil': 1866, 'suit': 4308, 'sought': 4110, 'mulch': 2876, 'bump': 572, 'trivia': 4609, 'babysitt': 284, 'snowboard': 4063, 'million': 2775, 'buzz': 594, 'alarm': 94, 'scrambl': 3840, 'museum': 2888, 'leas': 2485, 'hugh': 2139, 'data': 1096, 'din': 1219, 'fabul': 1548, 'wheat': 4876, 'panel': 3127, 'reconstruct': 3576, 'asia': 208, 'menu': 2732, 'japan': 2317, 'acr': 34, 'batman': 344, 'wireless': 4910, 'headset': 2018, 'snag': 4056, 'wizard': 4917, 'oz': 3104, 'iron': 2293, 'fist': 1658, 'saul': 3808, 'mexican': 2749, 'bid': 409, 'mileag': 2769, 'salmon': 3786, 'bluray': 455, 'therebi': 4469, 'tender': 4436, 'soni': 4098, 'superb': 4323, 'groomer': 1924, 'surviv': 4345, 'workload': 4935, 'bunni': 577, 'reduct': 3588, 'thread': 4486, 'logo': 2568, 'beard': 358, 'zero': 4996, 'ongo': 3043, 'feder': 1612, 'brotherinlaw': 544, 'apprais': 177, 'barbequ': 318, 'nake': 2901, 'creme': 1031, 'beggar': 373, 'lasagna': 2452, 'blossom': 447, 'angel': 136, 'illustr': 2177, 'usag': 4714, 'md': 2700, 'pho': 3236, 'paypal': 3183, 'intervent': 2275, 'wisdom': 4912, 'blown': 450, 'choir': 765, 'startup': 4202, 'central': 685, 'nois': 2969, 'drama': 1308, 'dang': 1090, 'inspect': 2247, 'subscript': 4293, 'writer': 4954, 'bulb': 566, 'antiqu': 154, 'cabinet': 598, 'essenti': 1467, 'pasta': 3164, 'stroller': 4269, 'bitcoin': 428, 'belong': 387, 'narrowli': 2907, 'medium': 2718, 'fever': 1630, 'gem': 1809, 'polaroid': 3317, 'decad': 1123, 'creatur': 1028, 'tickl': 4504, 'tirupati': 4523, 'yearold': 4970, 'silenc': 3982, 'independ': 2206, 'cabl': 599, 'network': 2945, 'channel': 704, 'earth': 1362, 'occur': 3019, 'regist': 3604, 'spanish': 4127, 'averag': 263, 'furiou': 1777, 'bridg': 526, 'aw': 267, 'appet': 170, 'michael': 2754, 'singer': 3999, 'extern': 1539, 'caffein': 603, 'garbag': 1800, 'lighter': 2531, 'fertil': 1627, 'complimentari': 897, 'version': 4757, 'pink': 3267, 'registr': 3605, 'soft': 4078, 'mud': 2873, 'egypt': 1388, 'button': 591, 'teas': 4409, 'vers': 4756, 'troubleshoot': 4613, 'diner': 1221, 'couldnat': 988, 'polic': 3318, 'complaint': 890, 'pantri': 3131, 'ultim': 4657, 'handsom': 1978, 'shall': 3924, 'marathon': 2657, 'survivor': 4346, 'wend': 4866, 'scratchoff': 3845, 'icecream': 2165, 'pit': 3272, 'heartwarm': 2032, 'defeat': 1142, 'despair': 1185, 'ordinari': 3062, 'intellectu': 2260, 'religion': 3625, 'depriv': 1173, 'upstair': 4709, 'whim': 4882, 'grumpi': 1935, 'plain': 3280, 'outlet': 3083, 'inflat': 2222, 'peter': 3224, 'innov': 2238, 'cartoon': 655, 'blind': 439, 'navig': 2914, 'makeup': 2635, 'hut': 2159, 'tub': 4624, 'supermarket': 4326, 'seldom': 3875, 'reject': 3613, 'squeez': 4179, 'cloudi': 827, 'samsung': 3792, 'agreement': 80, 'sanction': 3794, 'nightmar': 2962, 'lovabl': 2593, 'stil': 4227, 'miracl': 2789, 'zealand': 4994, 'georg': 1816, 'advantag': 58, 'realis': 3553, 'pg': 3226, 'download': 1299, 'googl': 1868, 'cab': 596, 'seventi': 3913, 'exhilar': 1515, 'england': 1434, 'sox': 4121, 'authent': 254, 'pastor': 3165, 'gentl': 1813, 'gig': 1831, 'modern': 2811, 'atm': 231, 'corner': 974, 'theori': 4465, 'avocado': 265, 'iti': 2303, 'queen': 3494, 'heel': 2042, 'disappoint': 1232, 'phrase': 3243, 'spotifi': 4167, 'blueberri': 453, 'ripe': 3712, 'patriot': 3174, 'superbowl': 4324, 'hate': 2007, 'obedi': 3007, 'embarrass': 1407, 'atlanta': 230, 'countrysid': 996, 'barista': 323, 'truth': 4622, 'russian': 3770, 'trump': 4619, 'administr': 50, 'rewatch': 3698, 'restrict': 3678, 'depend': 1168, 'charter': 714, 'prime': 3401, 'devic': 1195, 'enchilada': 1421, 'slice': 4032, 'basil': 333, 'roman': 3736, 'dime': 1218, 'opinion': 3050, 'misplac': 2793, 'vietnam': 4765, 'wen': 4865, 'sprinkl': 4173, 'hormon': 2114, 'spirit': 4152, 'nose': 2981, 'luncheon': 2607, 'kidney': 2391, 'shut': 3969, 'washer': 4827, 'dryer': 1334, 'meme': 2725, 'milkshak': 2773, 'companion': 881, 'sofami': 4077, 'mortgag': 2843, 'tan': 4388, 'cashier': 659, 'merchandis': 2735, 'coordin': 968, 'yo': 4977, 'packet': 3111, 'king': 2400, 'hong': 2105, 'fond': 1695, 'laser': 2453, 'reddit': 3585, 'mask': 2676, 'unwind': 4700, 'sixth': 4010, 'dealership': 1113, 'inquir': 2239, 'priest': 3399, 'scream': 3846, 'manner': 2650, 'crawfish': 1019, 'actress': 40, 'silki': 3986, 'heartbeat': 2027, 'rid': 3705, 'newborn': 2946, 'christian': 775, 'abandon': 1, 'pop': 3330, 'creamer': 1023, 'chemic': 733, 'polit': 3321, 'combat': 856, 'instantli': 2253, 'pour': 3355, 'profil': 3427, 'toenail': 4534, 'underneath': 4669, 'lifei': 2522, 'timeit': 4516, 'greater': 1909, 'demonstr': 1160, 'kale': 2368, 'nearest': 2922, 'lifemi': 2525, 'selfit': 3880, 'agricultur': 81, 'custodi': 1071, 'discontinu': 1235, 'alumni': 117, 'viru': 4777, 'lit': 2549, 'ambul': 124, 'chop': 768, 'railway': 3521, 'nigeria': 2960, 'jasmin': 2320, 'excurs': 1508, 'height': 2043, 'tamil': 4386, 'nadu': 2897, 'rich': 3702, 'numer': 2998, 'boat': 459, 'overlook': 3095, 'lush': 2610, 'mri': 2866, 'tumor': 4631, 'clot': 824, 'itinerari': 2304, 'constant': 932, 'parrot': 3145, 'configur': 918, 'tooth': 4550, 'crucial': 1048, 'strategi': 4249, 'emit': 1411, 'compens': 886, 'hesh': 2056, 'thrice': 4489, 'theyll': 4473, 'dedic': 1135, 'quieter': 3503, 'instant': 2252, 'loui': 2591, 'audit': 246, 'presid': 3386, 'hawaiian': 2010, 'overflow': 3092, 'groggi': 1922, 'gestur': 1821, 'shuffl': 3968, 'bout': 490, 'shortli': 3956, 'kitti': 2407, 'litter': 2552, 'familyi': 1573, 'suicid': 4307, 'matur': 2692, 'postal': 3344, 'recycl': 3583, 'checkout': 721, 'cuisin': 1058, 'insect': 2241, 'playstat': 3297, 'mario': 2666, 'tablet': 4374, 'rival': 3717, 'dairi': 1082, 'uniform': 4682, 'condition': 910, 'flip': 1674, 'powder': 3356, 'stain': 4188, 'pallet': 3121, 'ranger': 3536, 'gloomi': 1845, 'calcul': 606, 'arent': 191, 'dump': 1344, 'clearli': 808, 'henc': 2050, 'workday': 4932, 'terrac': 4446, 'stair': 4189, 'farewel': 1581, 'cavali': 672, 'mount': 2856, 'worst': 4944, 'flexibl': 1671, 'refil': 3592, 'learner': 2483, 'sponsor': 4162, 'overdu': 3091, 'plumber': 3306, 'dew': 1199, 'celtic': 680, 'korea': 2420, 'ninja': 2964, 'fifth': 1638, 'doughnut': 1297, 'pee': 3192, 'crate': 1017, 'hungari': 2150, 'obsess': 3011, 'wherea': 4880, 'chase': 715, 'swept': 4363, 'infront': 2226, 'inexpens': 2219, 'seattl': 3862, 'clue': 829, 'solar': 4082, 'patch': 3168, 'warcraft': 4817, 'infect': 2221, 'scrub': 3851, 'shampoo': 3925, 'password': 3162, 'appar': 167, 'galaxi': 1791, 'scari': 3818, 'reveal': 3690, 'pattern': 3175, 'tenant': 4434, 'cancun': 626, 'volleybal': 4794, 'med': 2712, 'surpass': 4340, 'dc': 1106, 'steam': 4215, 'postcard': 3345, 'asparagu': 213, 'polici': 3319, 'tattoo': 4397, 'awar': 270, 'tummi': 4630, 'grudg': 1933, 'detriment': 1192, 'conscienc': 926, 'deeper': 1139, 'bestfriend': 400, 'irrit': 2294, 'mushroom': 2889, 'omelett': 3041, 'fenc': 1625, 'chemistri': 734, 'glove': 1847, 'fallen': 1568, 'loot': 2581, 'airlin': 88, 'mat': 2682, 'greenhous': 1914, 'captain': 635, 'crunch': 1050, 'postpon': 3347, 'stew': 4223, 'impromptu': 2191, 'eventu': 1485, 'tediou': 4417, 'shadow': 3921, 'transform': 4585, 'shade': 3920, 'sonic': 4099, 'manger': 2647, 'america': 125, 'cleveland': 810, 'detroit': 1193, 'fort': 1715, 'kong': 2419, 'houston': 2133, 'indianapoli': 2212, 'kansa': 2370, 'lo': 2557, 'phoenix': 3237, 'pittsburgh': 3275, 'tokyo': 4539, 'washington': 4828, 'mommi': 2825, 'nonstop': 2974, 'hardship': 1997, 'dust': 1349, 'takeout': 4380, 'sunglass': 4316, 'section': 3867, 'navi': 2913, 'favour': 1601, 'specul': 4139, 'gray': 1907, 'virtual': 4776, 'tap': 4390, 'loudli': 2590, 'reli': 3620, 'aircraft': 87, 'besti': 401, 'blu': 451, 'sail': 3779, 'miser': 2792, 'slum': 4042, 'forgiv': 1708, 'therefor': 4470, 'anybodi': 158, 'comfi': 864, 'peed': 3193, 'freshman': 1746, 'microwav': 2759, 'nut': 3001, 'insight': 2243, 'sm': 4043, 'temp': 4427, 'theyd': 4472, 'rug': 3760, 'anger': 137, 'buyer': 593, 'induct': 2216, 'closur': 823, 'rearrang': 3557, 'sector': 3868, 'contrast': 949, 'teddi': 4416, 'em': 1405, 'linguist': 2542, 'citizen': 792, 'earphon': 1361, 'panic': 3129, 'german': 1818, 'currenc': 1066, 'tuna': 4632, 'sober': 4069, 'fajita': 1565, 'dude': 1340, 'bang': 308, 'solo': 4087, 'nacho': 2896, 'pipe': 3270, 'flop': 1680, 'bush': 585, 'fade': 1558, 'jim': 2336, 'placement': 3278, 'balloon': 305, 'arab': 185, 'cheesecak': 729, 'unwant': 4699, 'bittersweet': 430, 'behold': 380, 'monetari': 2827, 'sustain': 4350, 'pin': 3263, 'afterword': 72, 'coconut': 839, 'perfum': 3212, 'crimin': 1037, 'justic': 2367, 'cuddli': 1057, 'clash': 799, 'clan': 796, 'pear': 3190, 'pint': 3268, 'cutest': 1075, 'cereal': 688, 'hbo': 2013, 'passag': 3156, 'fluffi': 1687, 'softbal': 4079, 'formula': 1714, 'dvr': 1352, 'expans': 1522, 'refin': 3593, 'counsel': 990, 'margin': 2661, 'momentit': 2821, 'lifeit': 2523, 'guacamol': 1937, 'allergi': 104, 'decreas': 1134, 'cedar': 675, 'strongli': 4272, 'wealth': 4841, 'element': 1396, 'furthermor': 1781, 'timei': 4515, 'accessori': 18, 'permit': 3218, 'aid': 85, 'carefre': 645, 'quora': 3508, 'silent': 3983, 'tinder': 4518, 'beta': 403, 'joshua': 2350, 'modul': 2814, 'fee': 1614, 'lawyer': 2468, 'minim': 2782, 'centuri': 686, 'alert': 98, 'prone': 3443, 'brag': 501, 'happyi': 1988, 'layout': 2470, 'storag': 4238, 'restart': 3674, 'niagara': 2954, 'admit': 53, 'feast': 1607, 'vip': 4773, 'bone': 466, 'rude': 3759, 'quicker': 3500, 'tractor': 4572, 'dip': 1223, 'exampl': 1499, 'entri': 1451, 'scone': 3834, 'sketch': 4015, 'basket': 335, 'scrabbl': 3839, 'troll': 4610, 'soundtrack': 4113, 'brave': 508, 'nike': 2963, 'primari': 3400, 'veg': 4740, 'grey': 1917, 'anatomi': 134, 'calendar': 608, 'guardian': 1940, 'assess': 217, 'premier': 3374, 'portland': 3337, 'sightse': 3976, 'housework': 2132, 'bro': 536, 'seedl': 3872, 'fussi': 1783, 'barber': 319, 'joyou': 2354, 'flood': 1678, 'disneyworld': 1249, 'mac': 2613, 'prank': 3361, 'homerun': 2096, 'deed': 1137, 'schoolwork': 3830, 'prioriti': 3407, 'neat': 2924, 'domino': 1284, 'palm': 3122, 'cough': 987, 'allot': 105, 'mob': 2804, 'gum': 1949, 'threaten': 4487, 'mocha': 2806, 'royal': 3755, 'roomat': 3740, 'sourdough': 4117, 'fool': 1697, 'happyand': 1987, 'user': 4717, 'contribut': 950, 'blowjob': 449, 'screw': 3849, 'submiss': 4290, 'convoc': 958, 'lizard': 2556, 'kart': 2375, 'minist': 2784, 'wayanad': 4839, 'visitor': 4783, 'ghat': 1825, 'jam': 2313, 'horror': 2117, 'formal': 1713, 'wisconsin': 4911, 'technician': 4412, 'revenu': 3691, 'seminar': 3887, 'cube': 1055, 'reimburs': 3612, 'faith': 1564, 'christ': 774, 'reread': 3658, 'crochet': 1042, 'furnac': 1778, 'aggress': 76, 'leisur': 2498, 'twoyear': 4649, 'fragranc': 1726, 'pigeon': 3257, 'sparrow': 4130, 'agent': 75, 'shelv': 3935, 'skull': 4024, 'enrich': 1440, 'licenc': 2515, 'neighbourhood': 2937, 'gonna': 1860, 'jackpot': 2310, 'slot': 4039, 'sleepi': 4029, 'secondari': 3864, 'ot': 3075, 'mississippi': 2796, 'lengthi': 2504, 'biryani': 425, 'pari': 3141, 'noisi': 2970, 'pollut': 3322, 'tioman': 4520, 'bot': 480, 'colour': 853, 'diari': 1206, 'hallway': 1968, 'vital': 4785, 'assur': 225, 'sim': 3989, 'pleasantli': 3300, 'hey': 2059, 'rack': 3514, 'laundromat': 2463, 'obvious': 3014, 'indiana': 2211, 'dorm': 1290, 'dslr': 1336, 'bound': 487, 'maximum': 2694, 'mth': 2869, 'antibiot': 152, 'evid': 1493, 'benefici': 392, 'prove': 3456, 'lip': 2545, 'unlik': 4689, 'dishwash': 1243, 'sunda': 4313, 'pumpkin': 3471, 'european': 1481, 'sneaker': 4060, 'thirsti': 4479, 'timethi': 4517, 'accommod': 21, 'indi': 2208, 'wooden': 4927, 'disk': 1244, 'seashor': 3858, 'gamer': 1796, 'investig': 2281, 'trim': 4605, 'tball': 4401, 'itit': 2305, 'trailer': 4578, 'heartili': 2031, 'scent': 3824, 'vent': 4750, 'fundrais': 1772, 'pill': 3260, 'chili': 751, 'worn': 4940, 'housewarm': 2131, 'everybodi': 1487, 'guid': 1943, 'standup': 4196, 'risk': 3714, 'loung': 2592, 'furnish': 1779, 'firework': 1655, 'lightli': 2532, 'strict': 4261, 'inning': 2236, 'rick': 3704, 'morti': 2844, 'flea': 1668, 'trainer': 4580, 'moana': 2803, 'raspberri': 3539, 'ba': 280, 'ensur': 1442, 'joe': 2341, 'fals': 1569, 'groomsmen': 1926, 'uber': 4653, 'stir': 4229, 'textur': 4454, 'fur': 1776, 'kanyakumari': 2371, 'kpop': 2422, 'stiff': 4226, 'borrow': 477, 'settlement': 3910, 'bull': 568, 'kroger': 2423, 'strip': 4264, 'surf': 4336, 'goat': 1852, 'briefli': 528, 'unc': 4664, 'lilac': 2536, 'pillow': 3261, 'refinish': 3594, 'titan': 4525, 'salon': 3787, 'minecraft': 2778, 'jewel': 2332, 'cigarett': 783, 'grandchild': 1886, 'sprinkler': 4174, 'terrif': 4448, 'woodwork': 4928, 'cocktail': 837, 'ukulel': 4656, 'waterfal': 4834, 'potter': 3352, 'restroom': 3679, 'dissert': 1254, 'circu': 788, 'orchestra': 3060, 'exhusband': 1516, 'flag': 1662, 'kfc': 2385, 'surfac': 4337, 'yellow': 4974, 'trout': 4614, 'brighten': 530, 'surgeon': 4338, 'ham': 1970, 'fifa': 1637, 'tune': 4633, 'migrain': 2764, 'fuck': 1762, 'ass': 215, 'frustrat': 1761, 'pineappl': 3266, 'vibrat': 4761, 'tripl': 4607, 'pirat': 3271, 'optimist': 3056, 'alma': 108, 'mater': 2685, 'lamb': 2436, 'honour': 2107, 'semifin': 3886, 'roller': 3735, 'teeth': 4421, 'sparkl': 4129, 'rpg': 3756, 'cheddar': 723, 'hummu': 2146, 'dislik': 1245, 'vegan': 4742, 'map': 2654, 'arrow': 202, 'folk': 1692, 'devour': 1198, 'concentr': 903, 'crown': 1047, 'shorter': 3955, 'intend': 2262, 'predict': 3369, 'simul': 3993, 'hed': 2039, 'picki': 3249, 'psychologist': 3462, 'fare': 1580, 'creation': 1025, 'suspens': 4349, 'oblig': 3009, 'squirrel': 4180, 'sermon': 3903, 'decemb': 1125, 'boba': 461, 'proof': 3444, 'temporari': 4431, 'cappuccino': 634, 'peer': 3196, 'meatloaf': 2710, 'context': 944, 'manual': 2651, 'chew': 741, 'occasion': 3016, 'ted': 4415, 'espresso': 1465, 'restless': 3676, 'lobster': 2561, 'salesman': 3785, 'bye': 595, 'mission': 2795, 'tar': 4392, 'transcript': 4583, 'filter': 1646, 'spinach': 4150, 'lawnmow': 2466, 'casual': 663, 'cellphon': 679, 'loaf': 2559, 'coaster': 835, 'prefer': 3370, 'bomb': 464, 'gala': 1790, 'sitter': 4008, 'sweatshirt': 4357, 'crib': 1034, 'stereo': 4221, 'auto': 258, 'woken': 4919, 'outstand': 3086, 'ny': 3003, 'snorkel': 4061, 'cope': 969, 'homeschool': 2097, 'eggplant': 1386, 'sir': 4003, 'sloppi': 4038, 'highlight': 2069, 'desper': 1186, 'reassur': 3559, 'fuss': 1782, 'bough': 484, 'playoff': 3296, 'rail': 3520, 'drag': 1305, 'toughest': 4561, 'guilti': 1946, 'gutter': 1953, 'arizona': 195, 'bin': 414, 'barn': 326, 'ymca': 4976, 'fuel': 1764, 'necklac': 2927, 'poorli': 3329, 'certainli': 691, 'grad': 1881, 'javascript': 2321, 'mapl': 2655, 'rehabilit': 3610, 'volum': 4795, 'bookstor': 471, 'drawer': 1313, 'hoop': 2110, 'sequel': 3899, 'blackjack': 432, 'hyster': 2161, 'le': 2473, 'phelp': 3231, 'mop': 2839, 'wilt': 4896, 'reviv': 3696, 'bounc': 486, 'fiction': 1634, 'farther': 1585, 'notebook': 2986, 'bluetooth': 454, 'rehab': 3609, 'region': 3603, 'mower': 2864, 'snowi': 4064, 'pandora': 3126, 'commerci': 872, 'smash': 4048, 'columbu': 854, 'tuition': 4628, 'lastli': 2454, 'arbi': 186, 'spider': 4147, 'chri': 773, 'uncomfort': 4666, 'thailand': 4457, 'lifetim': 2528, 'pickl': 3250, 'lucr': 2602, 'muffin': 2874, 'communion': 878, 'gross': 1927, 'squash': 4177, 'portfolio': 3335, 'camper': 618, 'yum': 4992, 'getaway': 1822, 'intermedi': 2269, 'kingdom': 2401, 'gambl': 1794, 'mlb': 2800, 'farmer': 1584, 'volcano': 4793, 'giyeong': 1839, 'bass': 337, 'seongwook': 3896, 'drummer': 1332, 'jobless': 2340, 'guitarist': 1948, 'delet': 1151, 'boil': 463, 'wide': 4887, 'jefferson': 2326, 'interpret': 2273, 'nonetheless': 2973, 'alonecit': 111, 'naiv': 2900, 'assumpt': 224, 'buster': 587, 'hid': 2062, 'signatur': 3979, 'columnist': 855, 'ann': 143, 'lander': 2440, 'hardwar': 1998, 'waiter': 4807, 'chainsaw': 695, 'vodka': 4790, 'raid': 3519, 'reconcil': 3574, 'asian': 209, 'tornado': 4555, 'fratern': 1731, 'er': 1458, 'deni': 1161, 'honey': 2103, 'liquor': 2546, 'cav': 671, 'lebron': 2488, 'asshol': 219, 'marvel': 2673, 'reckon': 3570, 'indulg': 2217, 'ii': 2174, 'manufactur': 2652, 'friendsit': 1753, 'replay': 3650, 'reopen': 3641, 'raindrop': 3524, 'mumbai': 2880, 'infus': 2227, 'si': 3970, 'madurai': 2620, 'cardin': 641, 'jack': 2308, 'shook': 3950, 'cement': 681, 'occupi': 3018, 'banner': 313, 'ms': 2867, 'carit': 647, 'corgi': 972, 'tim': 4513, 'selfesteem': 3878, 'cheerlead': 726, 'jazz': 2322, 'mumma': 2881, 'battlefield': 347, 'scooti': 3836, 'ziggi': 4997, 'phase': 3229, 'harvest': 2002, 'acn': 31, 'sensit': 3892, 'shiva': 3946, 'rip': 3711, 'margarita': 2660, 'pitcher': 3274, 'luci': 2598, 'percentag': 3208, 'malfunct': 2638, 'yanke': 4963, 'wax': 4837, 'facial': 1552, 'paradis': 3136, 'scuba': 3852, 'dive': 1263, 'spray': 4170, 'kit': 2403, 'kat': 2376, 'blend': 436, 'valv': 4729, 'unev': 4674, 'arthur': 204, 'clipper': 817, 'strep': 4258, 'rave': 3542, 'ha': 1958, 'vietnames': 4766, 'charit': 710, 'procrastin': 3420, 'dam': 1084, 'breakup': 514, 'manchest': 2645, 'entrepreneur': 1450, 'compass': 885, 'whatsapp': 4874, 'yamaha': 4962, 'rit': 3715, 'municip': 2885, 'beg': 371, 'editor': 1380, 'perhap': 3213, 'pug': 3468, 'jalapeno': 2312, 'fastest': 1590, 'fc': 1605, 'revers': 3692, 'proven': 3457, 'merced': 2734, 'twinkl': 4645, 'mod': 2807, 'contractor': 947, 'mesmer': 2739, 'potluck': 3351, 'macbook': 2615, 'dug': 1341, 'vari': 4734, 'santa': 3800, 'defect': 1143, 'thumb': 4498, 'steve': 4222, 'dat': 1095, 'ohio': 3030, 'lifestyl': 2526, 'paisley': 3118, 'barcelona': 320, 'tens': 4439, 'hail': 1962, 'fake': 1566, 'impeach': 2185, 'moder': 2810, 'pic': 3247, 'nanni': 2903, 'largest': 2450, 'specialti': 4135, 'circl': 787, 'tower': 4567, 'spur': 4176, 'eve': 1483, 'ds': 1335, 'martial': 2671, 'attach': 233, 'passport': 3161, 'consult': 937, 'loft': 2565, 'circular': 789, 'wonderla': 4924, 'belov': 388, 'nowa': 2993, 'bangl': 310, 'intercours': 2267, 'dayi': 1104, 'partyi': 3154, 'magnet': 2623, 'frisbe': 1755, 'info': 2224, 'literatur': 2551, 'terrifi': 4449, 'combo': 858, 'indescrib': 2207, 'rat': 3540, 'suitabl': 4309, 'suv': 4351, 'maker': 2634, 'vr': 4801, 'pepsi': 3206, 'macaroni': 2614, 'cleaner': 805, 'tamal': 4385, 'sfor': 3919, 'exitedi': 1519, 'sunflow': 4315, 'spill': 4148, 'kiddo': 2390, 'roughli': 3749, 'vine': 4770, 'tall': 4384, 'metro': 2748, 'deploy': 1169, 'commend': 869, 'conceiv': 901, 'committe': 875, 'lettuc': 2511, 'lump': 2605, 'emt': 1419, 'becz': 364, 'partial': 3147, 'kickbox': 2388, 'dehradun': 1148, 'everytim': 1491, 'elimin': 1401, 'alien': 101, 'snake': 4057, 'nasti': 2909, 'drone': 1327, 'companyi': 883, 'audiobook': 245, 'rotat': 3745, 'tent': 4441, 'preorder': 3377, 'rule': 3762, 'tempel': 4428, 'ritual': 3716, 'toothbrush': 4551, 'alright': 114, 'fb': 1603, 'blank': 433, 'overheard': 3093, 'steel': 4216, 'devot': 1196, 'fatigu': 1595, 'knot': 2414, 'stephen': 4219, 'persona': 3221, 'manuscript': 2653, 'photoshoot': 3242, 'femal': 1624, 'trader': 4574, 'instanc': 2251, 'groomsman': 1925, 'trunk': 4620, 'promo': 3438, 'drill': 1321, 'pongal': 3325, 'supervis': 4327, 'granola': 1897, 'mi': 2751, 'dodger': 1276, 'dmv': 1270, 'coke': 843, 'immers': 2183, 'teriyaki': 4443, 'jewelleri': 2333, 'brilliant': 533, 'cooker': 961, 'manga': 2646, 'flaw': 1667, 'rees': 3589, 'raft': 3518, 'sedona': 3870, 'unpack': 4693, 'crap': 1014, 'portugues': 3338, 'monster': 2832, 'commenc': 868, 'asset': 218, 'panera': 3128, 'towel': 4566, 'marin': 2664, 'overcam': 3089, 'chelsea': 732, 'empir': 1415, 'streamer': 4254, 'freeway': 1738, 'utah': 4719, 'showcas': 3962, 'ranch': 3532, 'slim': 4036, 'foam': 1688, 'messeng': 2742, 'pa': 3106, 'elig': 1400, 'nerv': 2940, 'techniqu': 4413, 'manageri': 2643, 'lamp': 2438, 'curtain': 1069, 'birthdayi': 424, 'happymi': 1990, 'disengag': 1241, 'conclus': 908, 'inaugur': 2195, 'forgt': 1711, 'lifedat': 2521, 'gvn': 1955, 'lif': 2519, 'momen': 2818, 'movent': 2861, 'concen': 902, 'dnt': 1271, 'ay': 279, 'abt': 10, 'examsbt': 1500, 'metal': 2745, 'lane': 2444, 'skirt': 4022, 'fil': 1643, 'cholesterol': 766, 'meow': 2733, 'disput': 1253, 'ben': 390, 'jerri': 2329, 'lunchtim': 2608, 'duckl': 1339, 'halo': 1969, 'attic': 239, 'cap': 631, 'implement': 2186, 'urdu': 4711, 'kannda': 2369, 'physiolog': 3245, 'denni': 1162, 'miniatur': 2781, 'slip': 4037, 'hindu': 2077, 'partli': 3151, 'chimney': 754, 'erect': 1460, 'shield': 3938, 'hunger': 2151, 'pinterest': 3269, 'miscarriag': 2791, 'jedi': 2324, 'pinbal': 3264, 'streak': 4252, 'maryland': 2674, 'reliabl': 3621, 'curiou': 1064, 'counselor': 991, 'ant': 151, 'buffalo': 560, 'idol': 2171, 'unbeliev': 4662, 'drastic': 1311, 'sizabl': 4011, 'platform': 3290, 'dent': 1163, 'tearsmi': 4408, 'sorrow': 4108, 'armsfor': 198, 'unexplain': 4677, 'nerou': 2939, 'studdi': 4277, 'shiver': 3947, 'pitch': 3273, 'promotionit': 3440, 'epic': 1453, 'tissu': 4524, 'chiropractor': 760, 'repaint': 3644, 'rope': 3743, 'derbi': 1174, 'civil': 793, 'kimmi': 2395, 'schmidt': 3826, 'masturb': 2681, 'scenic': 3823, 'ipl': 2287, 'innoc': 2237, 'ideal': 2169, 'faucet': 1596, 'amplifi': 127, 'clerk': 809, 'poison': 3312, 'extent': 1538, 'monopoli': 2831, 'carrier': 652, 'housem': 2130, 'madrid': 2619, 'chit': 762, 'label': 2427, 'quest': 3496, 'knife': 2411, 'unload': 4691, 'planter': 3286, 'passov': 3160, 'blush': 456, 'dandelion': 1089, 'foundat': 1722, 'council': 989, 'shepherd': 3936, 'jr': 2355, 'plagu': 3279, 'jail': 2311, 'bellyd': 386, 'profound': 3429, 'fate': 1592, 'wink': 4904, 'inlov': 2234, 'elsewher': 1404, 'rolex': 3733, 'mt': 2868, 'fault': 1597, 'descript': 1177, 'breezi': 519, 'kendrick': 2378, 'lamar': 2435, 'petrol': 3225, 'brightli': 532, 'aloud': 112, 'goto': 1872, 'syria': 4371, 'beginn': 375, 'forgetten': 1707, 'preapprov': 3366, 'mickey': 2756, 'regardless': 3602, 'queue': 3498, 'prolong': 3434, 'preach': 3365, 'dove': 1298, 'tee': 4418, 'mic': 2753, 'cosmet': 979, 'motherboard': 2849, 'repay': 3646, 'ira': 2290, 'hotelparkcinema': 2124, 'hood': 2108, 'sharp': 3928, 'suffici': 4304, 'kentucki': 2379, 'algebra': 100, 'tide': 4505, 'brooklyn': 542, 'fundament': 1771, 'freed': 1734, 'transmiss': 4588, 'stash': 4204, 'toxic': 4569, 'georgia': 1817, 'dubai': 1337, 'hawk': 2011, 'banquet': 314, 'importantli': 2188, 'raccoon': 3512, 'cinco': 784, 'mayo': 2696, 'trigger': 4604, 'sandal': 3797, 'visai': 4779, 'thankyou': 4459, 'steadi': 4211, 'visibl': 4780, 'dismiss': 1246, 'skittish': 4023, 'rider': 3707, 'gentleman': 1814, 'sole': 4085, 'champagn': 699, 'arcad': 187, 'cookbook': 960, 'spoil': 4159, 'sod': 4074, 'behalf': 377, 'pong': 3324, 'iv': 2306, 'daddyrest': 1080, 'fir': 1653, 'pine': 3265, 'harbor': 1992, 'belt': 389, 'ufc': 4654, 'declutt': 1131, 'tore': 4554, 'laker': 2434, 'visual': 4784, 'gal': 1789, 'ceil': 676, 'planner': 3284, 'fargo': 1582, 'endur': 1426, 'stolen': 4233, 'karma': 2374, 'bra': 497, 'swallow': 4352, 'coachella': 833, 'absenc': 8, 'abc': 2, 'jane': 2315, 'buffer': 561, 'aisl': 91, 'humid': 2144, 'anandcit': 133, 'gender': 1810, 'fav': 1598, 'mysor': 2894, 'dada': 1078, 'accumul': 26, 'lifethat': 2527, 'kilomet': 2393, 'honda': 2100, 'emerald': 1409, 'cactu': 600, 'tube': 4625, 'tx': 4650, 'invigor': 2282, 'prematur': 3373, 'minnesota': 2785, 'eastern': 1369, 'shore': 3953, 'cuba': 1054, 'australian': 253, 'followup': 1694, 'microphon': 2758, 'whe': 4875, 'ielt': 2172, 'bangladesh': 311, 'ballet': 304, 'mathemat': 2689, 'monthi': 2835, 'scold': 3833, 'hum': 2141, 'dogsit': 1280, 'referr': 3591, 'esteem': 1470, 'diploma': 1224, 'crop': 1043, 'calculu': 607, 'deriv': 1175, 'shrine': 3967, 'luggag': 2603, 'guruvayur': 1952, 'roti': 3746, 'profici': 3426, 'babysat': 282, 'frappuccino': 1730, 'dd': 1107, 'joel': 2342, 'grader': 1883, 'meadow': 2702, 'atlant': 229, 'stump': 4284, 'faculti': 1557, 'router': 3752, 'buddha': 557, 'grave': 1905, 'se': 3853, 'kevin': 2382, 'sweepstak': 4359, 'gown': 1877, 'fidget': 1635, 'spinner': 4151, 'voluntarili': 4797, 'goldfish': 1857, 'belat': 381, 'guarante': 1938, 'youa': 4981, 'amumma': 128, 'awhi': 275, 'rotia': 3747, 'acthahahahaha': 36, 'merri': 2738, 'eater': 1372, 'preview': 3393, 'ralli': 3528, 'nfl': 2952, 'passiv': 3159, 'vase': 4737, 'undergradu': 4668, 'orgasm': 3067, 'hilli': 2075, 'bahubali': 298, 'occup': 3017, 'ariyaman': 194, 'ramanathapuram': 3529, 'desol': 1184, 'starl': 4200, 'sleeper': 4028, 'ebook': 1374, 'nhl': 2953, 'lame': 2437, 'sorround': 4107, 'jigarthanda': 2335, 'shakeel': 3923, 'anju': 141, 'guild': 1945, 'palac': 3120, 'momentari': 2820, 'experienti': 1527, 'heurist': 2058, 'peakend': 3188, 'momma': 2824, 'vitamin': 4786, 'inagur': 2194, 'giveaway': 1837, 'bingewatch': 416, 'grandmai': 1892, 'autonomi': 261, 'munchkin': 2883, 'winki': 4905, 'quadl': 3489, 'dean': 1114, 'vol': 4792, 'era': 1459, 'quinoa': 3505, 'neglect': 2931, 'giftz': 1830, 'salut': 3790, 'devote': 1197, 'happythat': 1991, 'cosmopolitan': 980, 'silicon': 3984, 'gova': 1875, 'moral': 2840, 'stoke': 4232, 'divar': 1262, 'brahmin': 502, 'bmw': 457, 'parentsi': 3139, 'companionship': 882, 'predat': 3368, 'kulfi': 2424, 'battleground': 348, 'endwhen': 1427, 'fleet': 1669, 'platei': 3289, 'seati': 3861, 'motheri': 2850, 'commentssist': 871, 'morningmoth': 2842, 'comey': 863, 'bhk': 406, 'fbi': 1604, 'jo': 2338, 'thekkadi': 4463, 'sanctuari': 3795, 'velankanni': 4747, 'malayalam': 2636, 'ozma': 3105, 'dorothi': 1291, 'ruler': 3763, 'diablo': 1201, 'indel': 2205, 'gurudwara': 1951, 'coven': 1003, 'momentwhen': 2823, 'parentss': 3140, 'prosecutor': 3449, 'alagar': 93, 'whippoorwil': 4883, 'lark': 2451, 'nonvibr': 2975, 'housebut': 2128, 'varanasi': 4733, 'sarnath': 3802, 'rohtang': 3730, 'allu': 107}\n",
            "[10.12036593  9.52252893 10.32103663 ... 10.90882329  9.38276699\n",
            "  7.84543237]\n"
          ],
          "name": "stdout"
        },
        {
          "output_type": "execute_result",
          "data": {
            "text/plain": [
              "numpy.ndarray"
            ]
          },
          "metadata": {
            "tags": []
          },
          "execution_count": 34
        }
      ]
    },
    {
      "cell_type": "code",
      "metadata": {
        "id": "LSf3Tka7B32s",
        "colab_type": "code",
        "outputId": "16368a64-8380-4382-e6ca-2c34ec4e2bde",
        "colab": {
          "base_uri": "https://localhost:8080/",
          "height": 34
        }
      },
      "source": [
        "xtrain_tfv_sum.shape, xtest_tfv_sum.shape"
      ],
      "execution_count": 35,
      "outputs": [
        {
          "output_type": "execute_result",
          "data": {
            "text/plain": [
              "((60321, 5000), (40213, 5000))"
            ]
          },
          "metadata": {
            "tags": []
          },
          "execution_count": 35
        }
      ]
    },
    {
      "cell_type": "code",
      "metadata": {
        "id": "YlSEGwH8B3x2",
        "colab_type": "code",
        "colab": {}
      },
      "source": [
        "x_train = np.concatenate((x, xtrain_tfv_sum),axis = 1)\n",
        "x_test = np.concatenate((x1, xtest_tfv_sum),axis = 1)"
      ],
      "execution_count": 0,
      "outputs": []
    },
    {
      "cell_type": "code",
      "metadata": {
        "id": "VTMsq3oQB3uR",
        "colab_type": "code",
        "colab": {
          "base_uri": "https://localhost:8080/",
          "height": 34
        },
        "outputId": "b4976693-8260-41fa-b512-4bf352827794"
      },
      "source": [
        "x_train.shape,x_test.shape"
      ],
      "execution_count": 37,
      "outputs": [
        {
          "output_type": "execute_result",
          "data": {
            "text/plain": [
              "((60321, 5003), (40213, 5003))"
            ]
          },
          "metadata": {
            "tags": []
          },
          "execution_count": 37
        }
      ]
    },
    {
      "cell_type": "code",
      "metadata": {
        "id": "sWvGNK2CB3ql",
        "colab_type": "code",
        "colab": {}
      },
      "source": [
        "from sklearn.linear_model import LogisticRegression\n",
        "classifier=LogisticRegression(solver='lbfgs',multi_class='multinomial',random_state=0,C=10)\n",
        "classifier.fit(x_train,y_train)\n",
        "y_pred = classifier.predict(x_test)"
      ],
      "execution_count": 0,
      "outputs": []
    },
    {
      "cell_type": "code",
      "metadata": {
        "id": "Kv9rF8bWBK0y",
        "colab_type": "code",
        "colab": {}
      },
      "source": [
        "ans = labelencoder1.inverse_transform(y_pred)\n",
        "type(ans)\n",
        "ans = pd.DataFrame(ans)"
      ],
      "execution_count": 0,
      "outputs": []
    },
    {
      "cell_type": "code",
      "metadata": {
        "id": "f5TisC24VGoG",
        "colab_type": "code",
        "colab": {}
      },
      "source": [
        "id1=test.loc[:,['hmid']]\n",
        "final_ans = [id1, ans]\n",
        "final_ans = pd.concat(final_ans, axis=1)\n",
        "final_ans.columns = ['hmid', 'predicted_category']\n",
        "final_ans.to_csv('v1.csv',index=False)"
      ],
      "execution_count": 0,
      "outputs": []
    },
    {
      "cell_type": "code",
      "metadata": {
        "id": "iXXvl1afVUBF",
        "colab_type": "code",
        "colab": {}
      },
      "source": [
        ""
      ],
      "execution_count": 0,
      "outputs": []
    }
  ]
}